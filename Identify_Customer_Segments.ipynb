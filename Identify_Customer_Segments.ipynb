{
 "cells": [
  {
   "cell_type": "markdown",
   "metadata": {},
   "source": [
    "# Project: Identify Customer Segments\n",
    "\n",
    "In this project, you will apply unsupervised learning techniques to identify segments of the population that form the core customer base for a mail-order sales company in Germany. These segments can then be used to direct marketing campaigns towards audiences that will have the highest expected rate of returns. The data that you will use has been provided by our partners at Bertelsmann Arvato Analytics, and represents a real-life data science task.\n",
    "\n",
    "This notebook will help you complete this task by providing a framework within which you will perform your analysis steps. In each step of the project, you will see some text describing the subtask that you will perform, followed by one or more code cells for you to complete your work. **Feel free to add additional code and markdown cells as you go along so that you can explore everything in precise chunks.** The code cells provided in the base template will outline only the major tasks, and will usually not be enough to cover all of the minor tasks that comprise it.\n",
    "\n",
    "It should be noted that while there will be precise guidelines on how you should handle certain tasks in the project, there will also be places where an exact specification is not provided. **There will be times in the project where you will need to make and justify your own decisions on how to treat the data.** These are places where there may not be only one way to handle the data. In real-life tasks, there may be many valid ways to approach an analysis task. One of the most important things you can do is clearly document your approach so that other scientists can understand the decisions you've made.\n",
    "\n",
    "At the end of most sections, there will be a Markdown cell labeled **Discussion**. In these cells, you will report your findings for the completed section, as well as document the decisions that you made in your approach to each subtask. **Your project will be evaluated not just on the code used to complete the tasks outlined, but also your communication about your observations and conclusions at each stage.**"
   ]
  },
  {
   "cell_type": "code",
   "execution_count": 1,
   "metadata": {},
   "outputs": [
    {
     "data": {
      "text/plain": [
       "'\\nImport note: The classroom currently uses sklearn version 0.19.\\nIf you need to use an imputer, it is available in sklearn.preprocessing.Imputer,\\ninstead of sklearn.impute as in newer versions of sklearn.\\n'"
      ]
     },
     "execution_count": 1,
     "metadata": {},
     "output_type": "execute_result"
    }
   ],
   "source": [
    "# import libraries here; add more as necessary\n",
    "import numpy as np\n",
    "import pandas as pd\n",
    "import matplotlib.pyplot as plt\n",
    "import seaborn as sns\n",
    "\n",
    "from sklearn.preprocessing import StandardScaler\n",
    "from sklearn.preprocessing import Imputer\n",
    "from sklearn.decomposition import PCA\n",
    "from sklearn.cluster import KMeans\n",
    "\n",
    "# magic word for producing visualizations in notebook\n",
    "%matplotlib inline\n",
    "\n",
    "'''\n",
    "Import note: The classroom currently uses sklearn version 0.19.\n",
    "If you need to use an imputer, it is available in sklearn.preprocessing.Imputer,\n",
    "instead of sklearn.impute as in newer versions of sklearn.\n",
    "'''"
   ]
  },
  {
   "cell_type": "markdown",
   "metadata": {},
   "source": [
    "### Step 0: Load the Data\n",
    "\n",
    "There are four files associated with this project (not including this one):\n",
    "\n",
    "- `Udacity_AZDIAS_Subset.csv`: Demographics data for the general population of Germany; 891211 persons (rows) x 85 features (columns).\n",
    "- `Udacity_CUSTOMERS_Subset.csv`: Demographics data for customers of a mail-order company; 191652 persons (rows) x 85 features (columns).\n",
    "- `Data_Dictionary.md`: Detailed information file about the features in the provided datasets.\n",
    "- `AZDIAS_Feature_Summary.csv`: Summary of feature attributes for demographics data; 85 features (rows) x 4 columns\n",
    "\n",
    "Each row of the demographics files represents a single person, but also includes information outside of individuals, including information about their household, building, and neighborhood. You will use this information to cluster the general population into groups with similar demographic properties. Then, you will see how the people in the customers dataset fit into those created clusters. The hope here is that certain clusters are over-represented in the customers data, as compared to the general population; those over-represented clusters will be assumed to be part of the core userbase. This information can then be used for further applications, such as targeting for a marketing campaign.\n",
    "\n",
    "To start off with, load in the demographics data for the general population into a pandas DataFrame, and do the same for the feature attributes summary. Note for all of the `.csv` data files in this project: they're semicolon (`;`) delimited, so you'll need an additional argument in your [`read_csv()`](https://pandas.pydata.org/pandas-docs/stable/generated/pandas.read_csv.html) call to read in the data properly. Also, considering the size of the main dataset, it may take some time for it to load completely.\n",
    "\n",
    "Once the dataset is loaded, it's recommended that you take a little bit of time just browsing the general structure of the dataset and feature summary file. You'll be getting deep into the innards of the cleaning in the first major step of the project, so gaining some general familiarity can help you get your bearings."
   ]
  },
  {
   "cell_type": "code",
   "execution_count": 2,
   "metadata": {},
   "outputs": [],
   "source": [
    "# Load in the general demographics data.\n",
    "azdias = pd.read_csv('Udacity_AZDIAS_Subset.csv', ';')\n",
    "\n",
    "# Load in the feature summary file.\n",
    "feat_info = pd.read_csv('AZDIAS_Feature_Summary.csv', ';')"
   ]
  },
  {
   "cell_type": "code",
   "execution_count": 3,
   "metadata": {
    "scrolled": true
   },
   "outputs": [
    {
     "data": {
      "text/plain": [
       "AGER_TYP                      0\n",
       "ALTERSKATEGORIE_GROB          0\n",
       "ANREDE_KZ                     0\n",
       "CJT_GESAMTTYP              4854\n",
       "FINANZ_MINIMALIST             0\n",
       "FINANZ_SPARER                 0\n",
       "FINANZ_VORSORGER              0\n",
       "FINANZ_ANLEGER                0\n",
       "FINANZ_UNAUFFAELLIGER         0\n",
       "FINANZ_HAUSBAUER              0\n",
       "FINANZTYP                     0\n",
       "GEBURTSJAHR                   0\n",
       "GFK_URLAUBERTYP            4854\n",
       "GREEN_AVANTGARDE              0\n",
       "HEALTH_TYP                    0\n",
       "LP_LEBENSPHASE_FEIN        4854\n",
       "LP_LEBENSPHASE_GROB        4854\n",
       "LP_FAMILIE_FEIN            4854\n",
       "LP_FAMILIE_GROB            4854\n",
       "LP_STATUS_FEIN             4854\n",
       "LP_STATUS_GROB             4854\n",
       "NATIONALITAET_KZ              0\n",
       "PRAEGENDE_JUGENDJAHRE         0\n",
       "RETOURTYP_BK_S             4854\n",
       "SEMIO_SOZ                     0\n",
       "SEMIO_FAM                     0\n",
       "SEMIO_REL                     0\n",
       "SEMIO_MAT                     0\n",
       "SEMIO_VERT                    0\n",
       "SEMIO_LUST                    0\n",
       "                          ...  \n",
       "OST_WEST_KZ               93148\n",
       "WOHNLAGE                  93148\n",
       "CAMEO_DEUG_2015           98979\n",
       "CAMEO_DEU_2015            98979\n",
       "CAMEO_INTL_2015           98979\n",
       "KBA05_ANTG1              133324\n",
       "KBA05_ANTG2              133324\n",
       "KBA05_ANTG3              133324\n",
       "KBA05_ANTG4              133324\n",
       "KBA05_BAUMAX             133324\n",
       "KBA05_GBZ                133324\n",
       "BALLRAUM                  93740\n",
       "EWDICHTE                  93740\n",
       "INNENSTADT                93740\n",
       "GEBAEUDETYP_RASTER        93155\n",
       "KKK                      121196\n",
       "MOBI_REGIO               133324\n",
       "ONLINE_AFFINITAET          4854\n",
       "REGIOTYP                 121196\n",
       "KBA13_ANZAHL_PKW         105800\n",
       "PLZ8_ANTG1               116515\n",
       "PLZ8_ANTG2               116515\n",
       "PLZ8_ANTG3               116515\n",
       "PLZ8_ANTG4               116515\n",
       "PLZ8_BAUMAX              116515\n",
       "PLZ8_HHZ                 116515\n",
       "PLZ8_GBZ                 116515\n",
       "ARBEIT                    97216\n",
       "ORTSGR_KLS9               97216\n",
       "RELAT_AB                  97216\n",
       "Length: 85, dtype: int64"
      ]
     },
     "execution_count": 3,
     "metadata": {},
     "output_type": "execute_result"
    }
   ],
   "source": [
    "# Check the structure of the data after it's loaded (e.g. print the number of\n",
    "# rows and columns, print the first few rows).\n",
    "before = azdias.isna().sum()\n",
    "azdias.isna().sum()"
   ]
  },
  {
   "cell_type": "code",
   "execution_count": 4,
   "metadata": {},
   "outputs": [
    {
     "data": {
      "text/html": [
       "<div>\n",
       "<style scoped>\n",
       "    .dataframe tbody tr th:only-of-type {\n",
       "        vertical-align: middle;\n",
       "    }\n",
       "\n",
       "    .dataframe tbody tr th {\n",
       "        vertical-align: top;\n",
       "    }\n",
       "\n",
       "    .dataframe thead th {\n",
       "        text-align: right;\n",
       "    }\n",
       "</style>\n",
       "<table border=\"1\" class=\"dataframe\">\n",
       "  <thead>\n",
       "    <tr style=\"text-align: right;\">\n",
       "      <th></th>\n",
       "      <th>attribute</th>\n",
       "      <th>information_level</th>\n",
       "      <th>type</th>\n",
       "      <th>missing_or_unknown</th>\n",
       "    </tr>\n",
       "  </thead>\n",
       "  <tbody>\n",
       "    <tr>\n",
       "      <th>0</th>\n",
       "      <td>AGER_TYP</td>\n",
       "      <td>person</td>\n",
       "      <td>categorical</td>\n",
       "      <td>[-1,0]</td>\n",
       "    </tr>\n",
       "    <tr>\n",
       "      <th>1</th>\n",
       "      <td>ALTERSKATEGORIE_GROB</td>\n",
       "      <td>person</td>\n",
       "      <td>ordinal</td>\n",
       "      <td>[-1,0,9]</td>\n",
       "    </tr>\n",
       "    <tr>\n",
       "      <th>2</th>\n",
       "      <td>ANREDE_KZ</td>\n",
       "      <td>person</td>\n",
       "      <td>categorical</td>\n",
       "      <td>[-1,0]</td>\n",
       "    </tr>\n",
       "    <tr>\n",
       "      <th>3</th>\n",
       "      <td>CJT_GESAMTTYP</td>\n",
       "      <td>person</td>\n",
       "      <td>categorical</td>\n",
       "      <td>[0]</td>\n",
       "    </tr>\n",
       "    <tr>\n",
       "      <th>4</th>\n",
       "      <td>FINANZ_MINIMALIST</td>\n",
       "      <td>person</td>\n",
       "      <td>ordinal</td>\n",
       "      <td>[-1]</td>\n",
       "    </tr>\n",
       "  </tbody>\n",
       "</table>\n",
       "</div>"
      ],
      "text/plain": [
       "              attribute information_level         type missing_or_unknown\n",
       "0              AGER_TYP            person  categorical             [-1,0]\n",
       "1  ALTERSKATEGORIE_GROB            person      ordinal           [-1,0,9]\n",
       "2             ANREDE_KZ            person  categorical             [-1,0]\n",
       "3         CJT_GESAMTTYP            person  categorical                [0]\n",
       "4     FINANZ_MINIMALIST            person      ordinal               [-1]"
      ]
     },
     "execution_count": 4,
     "metadata": {},
     "output_type": "execute_result"
    }
   ],
   "source": [
    "feat_info.head()"
   ]
  },
  {
   "cell_type": "markdown",
   "metadata": {},
   "source": [
    "> **Tip**: Add additional cells to keep everything in reasonably-sized chunks! Keyboard shortcut `esc --> a` (press escape to enter command mode, then press the 'A' key) adds a new cell before the active cell, and `esc --> b` adds a new cell after the active cell. If you need to convert an active cell to a markdown cell, use `esc --> m` and to convert to a code cell, use `esc --> y`. \n",
    "\n",
    "## Step 1: Preprocessing\n",
    "\n",
    "### Step 1.1: Assess Missing Data\n",
    "\n",
    "The feature summary file contains a summary of properties for each demographics data column. You will use this file to help you make cleaning decisions during this stage of the project. First of all, you should assess the demographics data in terms of missing data. Pay attention to the following points as you perform your analysis, and take notes on what you observe. Make sure that you fill in the **Discussion** cell with your findings and decisions at the end of each step that has one!\n",
    "\n",
    "#### Step 1.1.1: Convert Missing Value Codes to NaNs\n",
    "The fourth column of the feature attributes summary (loaded in above as `feat_info`) documents the codes from the data dictionary that indicate missing or unknown data. While the file encodes this as a list (e.g. `[-1,0]`), this will get read in as a string object. You'll need to do a little bit of parsing to make use of it to identify and clean the data. Convert data that matches a 'missing' or 'unknown' value code into a numpy NaN value. You might want to see how much data takes on a 'missing' or 'unknown' code, and how much data is naturally missing, as a point of interest.\n",
    "\n",
    "**As one more reminder, you are encouraged to add additional cells to break up your analysis into manageable chunks.**"
   ]
  },
  {
   "cell_type": "code",
   "execution_count": 5,
   "metadata": {},
   "outputs": [
    {
     "name": "stdout",
     "output_type": "stream",
     "text": [
      "['-1', '0']\n",
      "['-1', '0', '9']\n",
      "['-1', '0']\n",
      "['0']\n",
      "['-1']\n",
      "['-1']\n",
      "['-1']\n",
      "['-1']\n",
      "['-1']\n",
      "['-1']\n",
      "['-1']\n",
      "['0']\n",
      "['']\n",
      "['']\n",
      "['-1', '0']\n",
      "['0']\n",
      "['0']\n",
      "['0']\n",
      "['0']\n",
      "['0']\n",
      "['0']\n",
      "['-1', '0']\n",
      "['-1', '0']\n",
      "['0']\n",
      "['-1', '9']\n",
      "['-1', '9']\n",
      "['-1', '9']\n",
      "['-1', '9']\n",
      "['-1', '9']\n",
      "['-1', '9']\n",
      "['-1', '9']\n",
      "['-1', '9']\n",
      "['-1', '9']\n",
      "['-1', '9']\n",
      "['-1', '9']\n",
      "['-1', '9']\n",
      "['-1', '9']\n",
      "['-1', '9']\n",
      "['-1']\n",
      "['-1']\n",
      "['-1', '0']\n",
      "['-1']\n",
      "['-1', '9']\n",
      "['0']\n",
      "['']\n",
      "['']\n",
      "['-1', '0']\n",
      "['-1']\n",
      "['-1', '0']\n",
      "['-1', '0']\n",
      "['0']\n",
      "['']\n",
      "['-1', '0']\n",
      "['']\n",
      "['0']\n",
      "['-1']\n",
      "['-1']\n",
      "['-1', 'X']\n",
      "['XX']\n",
      "['-1', 'XX']\n",
      "['-1']\n",
      "['-1']\n",
      "['-1']\n",
      "['-1']\n",
      "['-1', '0']\n",
      "['-1', '0']\n",
      "['-1']\n",
      "['-1']\n",
      "['-1']\n",
      "['']\n",
      "['-1', '0']\n",
      "['']\n",
      "['']\n",
      "['-1', '0']\n",
      "['']\n",
      "['-1']\n",
      "['-1']\n",
      "['-1']\n",
      "['-1']\n",
      "['-1', '0']\n",
      "['-1']\n",
      "['-1']\n",
      "['-1', '9']\n",
      "['-1', '0']\n",
      "['-1', '9']\n",
      "AGER_TYP                 685843\n",
      "ALTERSKATEGORIE_GROB       2881\n",
      "ANREDE_KZ                     0\n",
      "CJT_GESAMTTYP                 0\n",
      "FINANZ_MINIMALIST             0\n",
      "FINANZ_SPARER                 0\n",
      "FINANZ_VORSORGER              0\n",
      "FINANZ_ANLEGER                0\n",
      "FINANZ_UNAUFFAELLIGER         0\n",
      "FINANZ_HAUSBAUER              0\n",
      "FINANZTYP                     0\n",
      "GEBURTSJAHR              392318\n",
      "GFK_URLAUBERTYP               0\n",
      "GREEN_AVANTGARDE              0\n",
      "HEALTH_TYP               111196\n",
      "LP_LEBENSPHASE_FEIN       92778\n",
      "LP_LEBENSPHASE_GROB       89718\n",
      "LP_FAMILIE_FEIN           72938\n",
      "LP_FAMILIE_GROB           72938\n",
      "LP_STATUS_FEIN                0\n",
      "LP_STATUS_GROB                0\n",
      "NATIONALITAET_KZ         108315\n",
      "PRAEGENDE_JUGENDJAHRE    108164\n",
      "RETOURTYP_BK_S                0\n",
      "SEMIO_SOZ                     0\n",
      "SEMIO_FAM                     0\n",
      "SEMIO_REL                     0\n",
      "SEMIO_MAT                     0\n",
      "SEMIO_VERT                    0\n",
      "SEMIO_LUST                    0\n",
      "                          ...  \n",
      "OST_WEST_KZ                   0\n",
      "WOHNLAGE                      0\n",
      "CAMEO_DEUG_2015             373\n",
      "CAMEO_DEU_2015              373\n",
      "CAMEO_INTL_2015             373\n",
      "KBA05_ANTG1                   0\n",
      "KBA05_ANTG2                   0\n",
      "KBA05_ANTG3                   0\n",
      "KBA05_ANTG4                   0\n",
      "KBA05_BAUMAX             343200\n",
      "KBA05_GBZ                     0\n",
      "BALLRAUM                      0\n",
      "EWDICHTE                      0\n",
      "INNENSTADT                    0\n",
      "GEBAEUDETYP_RASTER            0\n",
      "KKK                       36868\n",
      "MOBI_REGIO                    0\n",
      "ONLINE_AFFINITAET             0\n",
      "REGIOTYP                  36868\n",
      "KBA13_ANZAHL_PKW              0\n",
      "PLZ8_ANTG1                    0\n",
      "PLZ8_ANTG2                    0\n",
      "PLZ8_ANTG3                    0\n",
      "PLZ8_ANTG4                    0\n",
      "PLZ8_BAUMAX                   0\n",
      "PLZ8_HHZ                      0\n",
      "PLZ8_GBZ                      0\n",
      "ARBEIT                      159\n",
      "ORTSGR_KLS9                  58\n",
      "RELAT_AB                    159\n",
      "Length: 85, dtype: int64\n"
     ]
    },
    {
     "data": {
      "text/plain": [
       "AGER_TYP                 685843\n",
       "ALTERSKATEGORIE_GROB       2881\n",
       "ANREDE_KZ                     0\n",
       "CJT_GESAMTTYP              4854\n",
       "FINANZ_MINIMALIST             0\n",
       "FINANZ_SPARER                 0\n",
       "FINANZ_VORSORGER              0\n",
       "FINANZ_ANLEGER                0\n",
       "FINANZ_UNAUFFAELLIGER         0\n",
       "FINANZ_HAUSBAUER              0\n",
       "FINANZTYP                     0\n",
       "GEBURTSJAHR              392318\n",
       "GFK_URLAUBERTYP            4854\n",
       "GREEN_AVANTGARDE              0\n",
       "HEALTH_TYP               111196\n",
       "LP_LEBENSPHASE_FEIN       97632\n",
       "LP_LEBENSPHASE_GROB       94572\n",
       "LP_FAMILIE_FEIN           77792\n",
       "LP_FAMILIE_GROB           77792\n",
       "LP_STATUS_FEIN             4854\n",
       "LP_STATUS_GROB             4854\n",
       "NATIONALITAET_KZ         108315\n",
       "PRAEGENDE_JUGENDJAHRE    108164\n",
       "RETOURTYP_BK_S             4854\n",
       "SEMIO_SOZ                     0\n",
       "SEMIO_FAM                     0\n",
       "SEMIO_REL                     0\n",
       "SEMIO_MAT                     0\n",
       "SEMIO_VERT                    0\n",
       "SEMIO_LUST                    0\n",
       "                          ...  \n",
       "OST_WEST_KZ               93148\n",
       "WOHNLAGE                  93148\n",
       "CAMEO_DEUG_2015           99352\n",
       "CAMEO_DEU_2015            99352\n",
       "CAMEO_INTL_2015           99352\n",
       "KBA05_ANTG1              133324\n",
       "KBA05_ANTG2              133324\n",
       "KBA05_ANTG3              133324\n",
       "KBA05_ANTG4              133324\n",
       "KBA05_BAUMAX             476524\n",
       "KBA05_GBZ                133324\n",
       "BALLRAUM                  93740\n",
       "EWDICHTE                  93740\n",
       "INNENSTADT                93740\n",
       "GEBAEUDETYP_RASTER        93155\n",
       "KKK                      158064\n",
       "MOBI_REGIO               133324\n",
       "ONLINE_AFFINITAET          4854\n",
       "REGIOTYP                 158064\n",
       "KBA13_ANZAHL_PKW         105800\n",
       "PLZ8_ANTG1               116515\n",
       "PLZ8_ANTG2               116515\n",
       "PLZ8_ANTG3               116515\n",
       "PLZ8_ANTG4               116515\n",
       "PLZ8_BAUMAX              116515\n",
       "PLZ8_HHZ                 116515\n",
       "PLZ8_GBZ                 116515\n",
       "ARBEIT                    97375\n",
       "ORTSGR_KLS9               97274\n",
       "RELAT_AB                  97375\n",
       "Length: 85, dtype: int64"
      ]
     },
     "execution_count": 5,
     "metadata": {},
     "output_type": "execute_result"
    }
   ],
   "source": [
    "for col in azdias:\n",
    "    unknown_val = feat_info[feat_info['attribute'] == col]['missing_or_unknown'] # to get the missing values of each col\n",
    "    lst = unknown_val.values[0].strip('[]').split(',')# to make it as a list\n",
    "    print(lst) #for debugging\n",
    "    for i in lst:\n",
    "        if i == '':\n",
    "            continue\n",
    "        if i != 'X' and i != 'XX':\n",
    "            i = int(i)\n",
    "        azdias[col] = azdias[col].replace(i, np.nan)\n",
    "        \n",
    "print(azdias.isna().sum() - before) #for debugging\n",
    "azdias.isna().sum() #for debugging"
   ]
  },
  {
   "cell_type": "code",
   "execution_count": 6,
   "metadata": {},
   "outputs": [
    {
     "data": {
      "text/html": [
       "<div>\n",
       "<style scoped>\n",
       "    .dataframe tbody tr th:only-of-type {\n",
       "        vertical-align: middle;\n",
       "    }\n",
       "\n",
       "    .dataframe tbody tr th {\n",
       "        vertical-align: top;\n",
       "    }\n",
       "\n",
       "    .dataframe thead th {\n",
       "        text-align: right;\n",
       "    }\n",
       "</style>\n",
       "<table border=\"1\" class=\"dataframe\">\n",
       "  <thead>\n",
       "    <tr style=\"text-align: right;\">\n",
       "      <th></th>\n",
       "      <th>AGER_TYP</th>\n",
       "      <th>ALTERSKATEGORIE_GROB</th>\n",
       "      <th>ANREDE_KZ</th>\n",
       "      <th>CJT_GESAMTTYP</th>\n",
       "      <th>FINANZ_MINIMALIST</th>\n",
       "      <th>FINANZ_SPARER</th>\n",
       "      <th>FINANZ_VORSORGER</th>\n",
       "      <th>FINANZ_ANLEGER</th>\n",
       "      <th>FINANZ_UNAUFFAELLIGER</th>\n",
       "      <th>FINANZ_HAUSBAUER</th>\n",
       "      <th>...</th>\n",
       "      <th>PLZ8_ANTG1</th>\n",
       "      <th>PLZ8_ANTG2</th>\n",
       "      <th>PLZ8_ANTG3</th>\n",
       "      <th>PLZ8_ANTG4</th>\n",
       "      <th>PLZ8_BAUMAX</th>\n",
       "      <th>PLZ8_HHZ</th>\n",
       "      <th>PLZ8_GBZ</th>\n",
       "      <th>ARBEIT</th>\n",
       "      <th>ORTSGR_KLS9</th>\n",
       "      <th>RELAT_AB</th>\n",
       "    </tr>\n",
       "  </thead>\n",
       "  <tbody>\n",
       "    <tr>\n",
       "      <th>0</th>\n",
       "      <td>NaN</td>\n",
       "      <td>2.0</td>\n",
       "      <td>1</td>\n",
       "      <td>2.0</td>\n",
       "      <td>3</td>\n",
       "      <td>4</td>\n",
       "      <td>3</td>\n",
       "      <td>5</td>\n",
       "      <td>5</td>\n",
       "      <td>3</td>\n",
       "      <td>...</td>\n",
       "      <td>NaN</td>\n",
       "      <td>NaN</td>\n",
       "      <td>NaN</td>\n",
       "      <td>NaN</td>\n",
       "      <td>NaN</td>\n",
       "      <td>NaN</td>\n",
       "      <td>NaN</td>\n",
       "      <td>NaN</td>\n",
       "      <td>NaN</td>\n",
       "      <td>NaN</td>\n",
       "    </tr>\n",
       "    <tr>\n",
       "      <th>1</th>\n",
       "      <td>NaN</td>\n",
       "      <td>1.0</td>\n",
       "      <td>2</td>\n",
       "      <td>5.0</td>\n",
       "      <td>1</td>\n",
       "      <td>5</td>\n",
       "      <td>2</td>\n",
       "      <td>5</td>\n",
       "      <td>4</td>\n",
       "      <td>5</td>\n",
       "      <td>...</td>\n",
       "      <td>2.0</td>\n",
       "      <td>3.0</td>\n",
       "      <td>2.0</td>\n",
       "      <td>1.0</td>\n",
       "      <td>1.0</td>\n",
       "      <td>5.0</td>\n",
       "      <td>4.0</td>\n",
       "      <td>3.0</td>\n",
       "      <td>5.0</td>\n",
       "      <td>4.0</td>\n",
       "    </tr>\n",
       "    <tr>\n",
       "      <th>2</th>\n",
       "      <td>NaN</td>\n",
       "      <td>3.0</td>\n",
       "      <td>2</td>\n",
       "      <td>3.0</td>\n",
       "      <td>1</td>\n",
       "      <td>4</td>\n",
       "      <td>1</td>\n",
       "      <td>2</td>\n",
       "      <td>3</td>\n",
       "      <td>5</td>\n",
       "      <td>...</td>\n",
       "      <td>3.0</td>\n",
       "      <td>3.0</td>\n",
       "      <td>1.0</td>\n",
       "      <td>0.0</td>\n",
       "      <td>1.0</td>\n",
       "      <td>4.0</td>\n",
       "      <td>4.0</td>\n",
       "      <td>3.0</td>\n",
       "      <td>5.0</td>\n",
       "      <td>2.0</td>\n",
       "    </tr>\n",
       "    <tr>\n",
       "      <th>3</th>\n",
       "      <td>2.0</td>\n",
       "      <td>4.0</td>\n",
       "      <td>2</td>\n",
       "      <td>2.0</td>\n",
       "      <td>4</td>\n",
       "      <td>2</td>\n",
       "      <td>5</td>\n",
       "      <td>2</td>\n",
       "      <td>1</td>\n",
       "      <td>2</td>\n",
       "      <td>...</td>\n",
       "      <td>2.0</td>\n",
       "      <td>2.0</td>\n",
       "      <td>2.0</td>\n",
       "      <td>0.0</td>\n",
       "      <td>1.0</td>\n",
       "      <td>3.0</td>\n",
       "      <td>4.0</td>\n",
       "      <td>2.0</td>\n",
       "      <td>3.0</td>\n",
       "      <td>3.0</td>\n",
       "    </tr>\n",
       "    <tr>\n",
       "      <th>4</th>\n",
       "      <td>NaN</td>\n",
       "      <td>3.0</td>\n",
       "      <td>1</td>\n",
       "      <td>5.0</td>\n",
       "      <td>4</td>\n",
       "      <td>3</td>\n",
       "      <td>4</td>\n",
       "      <td>1</td>\n",
       "      <td>3</td>\n",
       "      <td>2</td>\n",
       "      <td>...</td>\n",
       "      <td>2.0</td>\n",
       "      <td>4.0</td>\n",
       "      <td>2.0</td>\n",
       "      <td>1.0</td>\n",
       "      <td>2.0</td>\n",
       "      <td>3.0</td>\n",
       "      <td>3.0</td>\n",
       "      <td>4.0</td>\n",
       "      <td>6.0</td>\n",
       "      <td>5.0</td>\n",
       "    </tr>\n",
       "  </tbody>\n",
       "</table>\n",
       "<p>5 rows × 85 columns</p>\n",
       "</div>"
      ],
      "text/plain": [
       "   AGER_TYP  ALTERSKATEGORIE_GROB  ANREDE_KZ  CJT_GESAMTTYP  \\\n",
       "0       NaN                   2.0          1            2.0   \n",
       "1       NaN                   1.0          2            5.0   \n",
       "2       NaN                   3.0          2            3.0   \n",
       "3       2.0                   4.0          2            2.0   \n",
       "4       NaN                   3.0          1            5.0   \n",
       "\n",
       "   FINANZ_MINIMALIST  FINANZ_SPARER  FINANZ_VORSORGER  FINANZ_ANLEGER  \\\n",
       "0                  3              4                 3               5   \n",
       "1                  1              5                 2               5   \n",
       "2                  1              4                 1               2   \n",
       "3                  4              2                 5               2   \n",
       "4                  4              3                 4               1   \n",
       "\n",
       "   FINANZ_UNAUFFAELLIGER  FINANZ_HAUSBAUER    ...     PLZ8_ANTG1  PLZ8_ANTG2  \\\n",
       "0                      5                 3    ...            NaN         NaN   \n",
       "1                      4                 5    ...            2.0         3.0   \n",
       "2                      3                 5    ...            3.0         3.0   \n",
       "3                      1                 2    ...            2.0         2.0   \n",
       "4                      3                 2    ...            2.0         4.0   \n",
       "\n",
       "   PLZ8_ANTG3  PLZ8_ANTG4  PLZ8_BAUMAX  PLZ8_HHZ  PLZ8_GBZ  ARBEIT  \\\n",
       "0         NaN         NaN          NaN       NaN       NaN     NaN   \n",
       "1         2.0         1.0          1.0       5.0       4.0     3.0   \n",
       "2         1.0         0.0          1.0       4.0       4.0     3.0   \n",
       "3         2.0         0.0          1.0       3.0       4.0     2.0   \n",
       "4         2.0         1.0          2.0       3.0       3.0     4.0   \n",
       "\n",
       "   ORTSGR_KLS9  RELAT_AB  \n",
       "0          NaN       NaN  \n",
       "1          5.0       4.0  \n",
       "2          5.0       2.0  \n",
       "3          3.0       3.0  \n",
       "4          6.0       5.0  \n",
       "\n",
       "[5 rows x 85 columns]"
      ]
     },
     "execution_count": 6,
     "metadata": {},
     "output_type": "execute_result"
    }
   ],
   "source": [
    "# Identify missing or unknown data values and convert them to NaNs.\n",
    "\n",
    "azdias.head()"
   ]
  },
  {
   "cell_type": "markdown",
   "metadata": {},
   "source": [
    "#### Step 1.1.2: Assess Missing Data in Each Column\n",
    "\n",
    "How much missing data is present in each column? There are a few columns that are outliers in terms of the proportion of values that are missing. You will want to use matplotlib's [`hist()`](https://matplotlib.org/api/_as_gen/matplotlib.pyplot.hist.html) function to visualize the distribution of missing value counts to find these columns. Identify and document these columns. While some of these columns might have justifications for keeping or re-encoding the data, for this project you should just remove them from the dataframe. (Feel free to make remarks about these outlier columns in the discussion, however!)\n",
    "\n",
    "For the remaining features, are there any patterns in which columns have, or share, missing data?"
   ]
  },
  {
   "cell_type": "code",
   "execution_count": 7,
   "metadata": {},
   "outputs": [
    {
     "data": {
      "text/plain": [
       "TITEL_KZ          889061\n",
       "AGER_TYP          685843\n",
       "KK_KUNDENTYP      584612\n",
       "KBA05_BAUMAX      476524\n",
       "GEBURTSJAHR       392318\n",
       "ALTER_HH          310267\n",
       "REGIOTYP          158064\n",
       "KKK               158064\n",
       "W_KEIT_KIND_HH    147988\n",
       "KBA05_ANTG4       133324\n",
       "dtype: int64"
      ]
     },
     "execution_count": 7,
     "metadata": {},
     "output_type": "execute_result"
    }
   ],
   "source": [
    "# Perform an assessment of how much missing data there is in each column of the\n",
    "# dataset.\n",
    "num_missing_column = azdias.isna().sum()\n",
    "num_missing_column.sort_values(ascending=False).head(10)"
   ]
  },
  {
   "cell_type": "code",
   "execution_count": 8,
   "metadata": {},
   "outputs": [
    {
     "name": "stdout",
     "output_type": "stream",
     "text": [
      "TITEL_KZ          99.757636\n",
      "AGER_TYP          76.955435\n",
      "KK_KUNDENTYP      65.596749\n",
      "KBA05_BAUMAX      53.468668\n",
      "GEBURTSJAHR       44.020282\n",
      "ALTER_HH          34.813699\n",
      "REGIOTYP          17.735668\n",
      "KKK               17.735668\n",
      "W_KEIT_KIND_HH    16.605084\n",
      "KBA05_ANTG4       14.959701\n",
      "dtype: float64\n"
     ]
    },
    {
     "data": {
      "text/plain": [
       "(array([ 4.,  0.,  1.,  1.,  1.,  1.,  0.,  1.,  0.,  1.]),\n",
       " array([ 14.95970135,  23.43949481,  31.91928826,  40.39908171,\n",
       "         48.87887516,  57.35866861,  65.83846206,  74.31825552,\n",
       "         82.79804897,  91.27784242,  99.75763587]),\n",
       " <a list of 10 Patch objects>)"
      ]
     },
     "execution_count": 8,
     "metadata": {},
     "output_type": "execute_result"
    },
    {
     "data": {
      "image/png": "[encoded data removed]",
      "text/plain": [
       "<matplotlib.figure.Figure at 0x7fe7644f7470>"
      ]
     },
     "metadata": {
      "needs_background": "light"
     },
     "output_type": "display_data"
    }
   ],
   "source": [
    "# Investigate patterns in the amount of missing data in each column.\n",
    "percent_num_missing = num_missing_column / azdias.shape[0] * 100\n",
    "print(percent_num_missing.sort_values(ascending=False).head(10))\n",
    "plt.hist(percent_num_missing.sort_values(ascending=False).head(10))"
   ]
  },
  {
   "cell_type": "code",
   "execution_count": 9,
   "metadata": {},
   "outputs": [
    {
     "name": "stdout",
     "output_type": "stream",
     "text": [
      "AGER_TYP        76.955435\n",
      "GEBURTSJAHR     44.020282\n",
      "TITEL_KZ        99.757636\n",
      "ALTER_HH        34.813699\n",
      "KK_KUNDENTYP    65.596749\n",
      "KBA05_BAUMAX    53.468668\n",
      "dtype: float64\n",
      "['AGER_TYP', 'GEBURTSJAHR', 'TITEL_KZ', 'ALTER_HH', 'KK_KUNDENTYP', 'KBA05_BAUMAX']\n"
     ]
    }
   ],
   "source": [
    "# Remove the outlier columns from the dataset. (You'll perform other data\n",
    "# engineering tasks such as re-encoding and imputation later.)\n",
    "columns = percent_num_missing[percent_num_missing > 30]\n",
    "print(columns)\n",
    "\n",
    "dropped_columns = columns.index.tolist()\n",
    "print(dropped_columns)\n",
    "\n",
    "azdias = azdias.drop(dropped_columns, axis=1)"
   ]
  },
  {
   "cell_type": "code",
   "execution_count": 10,
   "metadata": {},
   "outputs": [
    {
     "data": {
      "text/html": [
       "<div>\n",
       "<style scoped>\n",
       "    .dataframe tbody tr th:only-of-type {\n",
       "        vertical-align: middle;\n",
       "    }\n",
       "\n",
       "    .dataframe tbody tr th {\n",
       "        vertical-align: top;\n",
       "    }\n",
       "\n",
       "    .dataframe thead th {\n",
       "        text-align: right;\n",
       "    }\n",
       "</style>\n",
       "<table border=\"1\" class=\"dataframe\">\n",
       "  <thead>\n",
       "    <tr style=\"text-align: right;\">\n",
       "      <th></th>\n",
       "      <th>ALTERSKATEGORIE_GROB</th>\n",
       "      <th>ANREDE_KZ</th>\n",
       "      <th>CJT_GESAMTTYP</th>\n",
       "      <th>FINANZ_MINIMALIST</th>\n",
       "      <th>FINANZ_SPARER</th>\n",
       "      <th>FINANZ_VORSORGER</th>\n",
       "      <th>FINANZ_ANLEGER</th>\n",
       "      <th>FINANZ_UNAUFFAELLIGER</th>\n",
       "      <th>FINANZ_HAUSBAUER</th>\n",
       "      <th>FINANZTYP</th>\n",
       "      <th>...</th>\n",
       "      <th>PLZ8_ANTG1</th>\n",
       "      <th>PLZ8_ANTG2</th>\n",
       "      <th>PLZ8_ANTG3</th>\n",
       "      <th>PLZ8_ANTG4</th>\n",
       "      <th>PLZ8_BAUMAX</th>\n",
       "      <th>PLZ8_HHZ</th>\n",
       "      <th>PLZ8_GBZ</th>\n",
       "      <th>ARBEIT</th>\n",
       "      <th>ORTSGR_KLS9</th>\n",
       "      <th>RELAT_AB</th>\n",
       "    </tr>\n",
       "  </thead>\n",
       "  <tbody>\n",
       "    <tr>\n",
       "      <th>0</th>\n",
       "      <td>2.0</td>\n",
       "      <td>1</td>\n",
       "      <td>2.0</td>\n",
       "      <td>3</td>\n",
       "      <td>4</td>\n",
       "      <td>3</td>\n",
       "      <td>5</td>\n",
       "      <td>5</td>\n",
       "      <td>3</td>\n",
       "      <td>4</td>\n",
       "      <td>...</td>\n",
       "      <td>NaN</td>\n",
       "      <td>NaN</td>\n",
       "      <td>NaN</td>\n",
       "      <td>NaN</td>\n",
       "      <td>NaN</td>\n",
       "      <td>NaN</td>\n",
       "      <td>NaN</td>\n",
       "      <td>NaN</td>\n",
       "      <td>NaN</td>\n",
       "      <td>NaN</td>\n",
       "    </tr>\n",
       "    <tr>\n",
       "      <th>1</th>\n",
       "      <td>1.0</td>\n",
       "      <td>2</td>\n",
       "      <td>5.0</td>\n",
       "      <td>1</td>\n",
       "      <td>5</td>\n",
       "      <td>2</td>\n",
       "      <td>5</td>\n",
       "      <td>4</td>\n",
       "      <td>5</td>\n",
       "      <td>1</td>\n",
       "      <td>...</td>\n",
       "      <td>2.0</td>\n",
       "      <td>3.0</td>\n",
       "      <td>2.0</td>\n",
       "      <td>1.0</td>\n",
       "      <td>1.0</td>\n",
       "      <td>5.0</td>\n",
       "      <td>4.0</td>\n",
       "      <td>3.0</td>\n",
       "      <td>5.0</td>\n",
       "      <td>4.0</td>\n",
       "    </tr>\n",
       "    <tr>\n",
       "      <th>2</th>\n",
       "      <td>3.0</td>\n",
       "      <td>2</td>\n",
       "      <td>3.0</td>\n",
       "      <td>1</td>\n",
       "      <td>4</td>\n",
       "      <td>1</td>\n",
       "      <td>2</td>\n",
       "      <td>3</td>\n",
       "      <td>5</td>\n",
       "      <td>1</td>\n",
       "      <td>...</td>\n",
       "      <td>3.0</td>\n",
       "      <td>3.0</td>\n",
       "      <td>1.0</td>\n",
       "      <td>0.0</td>\n",
       "      <td>1.0</td>\n",
       "      <td>4.0</td>\n",
       "      <td>4.0</td>\n",
       "      <td>3.0</td>\n",
       "      <td>5.0</td>\n",
       "      <td>2.0</td>\n",
       "    </tr>\n",
       "    <tr>\n",
       "      <th>3</th>\n",
       "      <td>4.0</td>\n",
       "      <td>2</td>\n",
       "      <td>2.0</td>\n",
       "      <td>4</td>\n",
       "      <td>2</td>\n",
       "      <td>5</td>\n",
       "      <td>2</td>\n",
       "      <td>1</td>\n",
       "      <td>2</td>\n",
       "      <td>6</td>\n",
       "      <td>...</td>\n",
       "      <td>2.0</td>\n",
       "      <td>2.0</td>\n",
       "      <td>2.0</td>\n",
       "      <td>0.0</td>\n",
       "      <td>1.0</td>\n",
       "      <td>3.0</td>\n",
       "      <td>4.0</td>\n",
       "      <td>2.0</td>\n",
       "      <td>3.0</td>\n",
       "      <td>3.0</td>\n",
       "    </tr>\n",
       "    <tr>\n",
       "      <th>4</th>\n",
       "      <td>3.0</td>\n",
       "      <td>1</td>\n",
       "      <td>5.0</td>\n",
       "      <td>4</td>\n",
       "      <td>3</td>\n",
       "      <td>4</td>\n",
       "      <td>1</td>\n",
       "      <td>3</td>\n",
       "      <td>2</td>\n",
       "      <td>5</td>\n",
       "      <td>...</td>\n",
       "      <td>2.0</td>\n",
       "      <td>4.0</td>\n",
       "      <td>2.0</td>\n",
       "      <td>1.0</td>\n",
       "      <td>2.0</td>\n",
       "      <td>3.0</td>\n",
       "      <td>3.0</td>\n",
       "      <td>4.0</td>\n",
       "      <td>6.0</td>\n",
       "      <td>5.0</td>\n",
       "    </tr>\n",
       "  </tbody>\n",
       "</table>\n",
       "<p>5 rows × 79 columns</p>\n",
       "</div>"
      ],
      "text/plain": [
       "   ALTERSKATEGORIE_GROB  ANREDE_KZ  CJT_GESAMTTYP  FINANZ_MINIMALIST  \\\n",
       "0                   2.0          1            2.0                  3   \n",
       "1                   1.0          2            5.0                  1   \n",
       "2                   3.0          2            3.0                  1   \n",
       "3                   4.0          2            2.0                  4   \n",
       "4                   3.0          1            5.0                  4   \n",
       "\n",
       "   FINANZ_SPARER  FINANZ_VORSORGER  FINANZ_ANLEGER  FINANZ_UNAUFFAELLIGER  \\\n",
       "0              4                 3               5                      5   \n",
       "1              5                 2               5                      4   \n",
       "2              4                 1               2                      3   \n",
       "3              2                 5               2                      1   \n",
       "4              3                 4               1                      3   \n",
       "\n",
       "   FINANZ_HAUSBAUER  FINANZTYP    ...     PLZ8_ANTG1  PLZ8_ANTG2  PLZ8_ANTG3  \\\n",
       "0                 3          4    ...            NaN         NaN         NaN   \n",
       "1                 5          1    ...            2.0         3.0         2.0   \n",
       "2                 5          1    ...            3.0         3.0         1.0   \n",
       "3                 2          6    ...            2.0         2.0         2.0   \n",
       "4                 2          5    ...            2.0         4.0         2.0   \n",
       "\n",
       "   PLZ8_ANTG4  PLZ8_BAUMAX  PLZ8_HHZ  PLZ8_GBZ  ARBEIT  ORTSGR_KLS9  RELAT_AB  \n",
       "0         NaN          NaN       NaN       NaN     NaN          NaN       NaN  \n",
       "1         1.0          1.0       5.0       4.0     3.0          5.0       4.0  \n",
       "2         0.0          1.0       4.0       4.0     3.0          5.0       2.0  \n",
       "3         0.0          1.0       3.0       4.0     2.0          3.0       3.0  \n",
       "4         1.0          2.0       3.0       3.0     4.0          6.0       5.0  \n",
       "\n",
       "[5 rows x 79 columns]"
      ]
     },
     "execution_count": 10,
     "metadata": {},
     "output_type": "execute_result"
    }
   ],
   "source": [
    "azdias.head()"
   ]
  },
  {
   "cell_type": "markdown",
   "metadata": {},
   "source": [
    "#### Discussion 1.1.2: Assess Missing Data in Each Column\n",
    "\n",
    "If we look closely at the percentage of NaN values in each column and sorted them, we would find that all the columns have a below 30% of the NaN values. Except for the top 6 columns. By removing these 6 columns we would be getting rid of about 40% of all the NaN values."
   ]
  },
  {
   "cell_type": "markdown",
   "metadata": {},
   "source": [
    "#### Step 1.1.3: Assess Missing Data in Each Row\n",
    "\n",
    "Now, you'll perform a similar assessment for the rows of the dataset. How much data is missing in each row? As with the columns, you should see some groups of points that have a very different numbers of missing values. Divide the data into two subsets: one for data points that are above some threshold for missing values, and a second subset for points below that threshold.\n",
    "\n",
    "In order to know what to do with the outlier rows, we should see if the distribution of data values on columns that are not missing data (or are missing very little data) are similar or different between the two groups. Select at least five of these columns and compare the distribution of values.\n",
    "- You can use seaborn's [`countplot()`](https://seaborn.pydata.org/generated/seaborn.countplot.html) function to create a bar chart of code frequencies and matplotlib's [`subplot()`](https://matplotlib.org/api/_as_gen/matplotlib.pyplot.subplot.html) function to put bar charts for the two subplots side by side.\n",
    "- To reduce repeated code, you might want to write a function that can perform this comparison, taking as one of its arguments a column to be compared.\n",
    "\n",
    "Depending on what you observe in your comparison, this will have implications on how you approach your conclusions later in the analysis. If the distributions of non-missing features look similar between the data with many missing values and the data with few or no missing values, then we could argue that simply dropping those points from the analysis won't present a major issue. On the other hand, if the data with many missing values looks very different from the data with few or no missing values, then we should make a note on those data as special. We'll revisit these data later on. **Either way, you should continue your analysis for now using just the subset of the data with few or no missing values.**"
   ]
  },
  {
   "cell_type": "code",
   "execution_count": 11,
   "metadata": {},
   "outputs": [
    {
     "data": {
      "text/plain": [
       "count    891221.000000\n",
       "mean          5.649894\n",
       "std          13.234687\n",
       "min           0.000000\n",
       "25%           0.000000\n",
       "50%           0.000000\n",
       "75%           3.000000\n",
       "max          49.000000\n",
       "dtype: float64"
      ]
     },
     "execution_count": 11,
     "metadata": {},
     "output_type": "execute_result"
    }
   ],
   "source": [
    "# How much data is missing in each row of the dataset?\n",
    "\n",
    "missing_values_per_row = azdias.isna().sum(axis=1)\n",
    "missing_values_per_row.describe()"
   ]
  },
  {
   "cell_type": "code",
   "execution_count": 12,
   "metadata": {},
   "outputs": [
    {
     "data": {
      "text/plain": [
       "count    93154.000000\n",
       "mean        43.164405\n",
       "std          4.878627\n",
       "min         31.000000\n",
       "25%         43.000000\n",
       "50%         43.000000\n",
       "75%         47.000000\n",
       "max         49.000000\n",
       "dtype: float64"
      ]
     },
     "execution_count": 12,
     "metadata": {},
     "output_type": "execute_result"
    },
    {
     "data": {
      "image/png": "[encoded data removed]",
      "text/plain": [
       "<matplotlib.figure.Figure at 0x7fe71574fdd8>"
      ]
     },
     "metadata": {
      "needs_background": "light"
     },
     "output_type": "display_data"
    }
   ],
   "source": [
    "sns.countplot(missing_values_per_row,)\n",
    "missing_values_per_row[missing_values_per_row > 30].describe()"
   ]
  },
  {
   "cell_type": "code",
   "execution_count": 13,
   "metadata": {},
   "outputs": [],
   "source": [
    "# Write code to divide the data into two subsets based on the number of missing\n",
    "# values in each row.\n",
    "threshold = 20\n",
    "missing_less_20 = azdias[missing_values_per_row <= threshold]\n",
    "missing_more_20 = azdias[missing_values_per_row > threshold]"
   ]
  },
  {
   "cell_type": "code",
   "execution_count": 14,
   "metadata": {},
   "outputs": [
    {
     "name": "stdout",
     "output_type": "stream",
     "text": [
      "['ZABEOTYP', 'SEMIO_REL', 'SEMIO_MAT', 'SEMIO_VERT', 'SEMIO_LUST']\n"
     ]
    }
   ],
   "source": [
    "# Compare the distribution of values for at least five columns where there are\n",
    "# no or few missing values, between the two subsets.\n",
    "columns = azdias.isna().sum().sort_values().head().index.tolist()\n",
    "print(columns)"
   ]
  },
  {
   "cell_type": "code",
   "execution_count": 15,
   "metadata": {},
   "outputs": [],
   "source": [
    "#plot function\n",
    "def plot(column, threshold, less_set, more_set):\n",
    "    fig, (ax1, ax2) = plt.subplots(1, 2)\n",
    "    fig.set_figwidth(15)\n",
    "    ax1.set_title('Missing values above than {}'.format(threshold))\n",
    "    sns.countplot(more_set.loc[:,column] , ax=ax1)\n",
    "    \n",
    "    ax2.set_title('Missing values below than {}'.format(threshold))\n",
    "    sns.countplot(less_set.loc[:,column] , ax=ax2)\n",
    "    \n",
    "    "
   ]
  },
  {
   "cell_type": "code",
   "execution_count": 16,
   "metadata": {},
   "outputs": [
    {
     "data": {
      "image/png": "[encoded data removed]",
      "text/plain": [
       "<matplotlib.figure.Figure at 0x7fe74c7a0da0>"
      ]
     },
     "metadata": {
      "needs_background": "light"
     },
     "output_type": "display_data"
    },
    {
     "data": {
      "image/png": "[encoded data removed]",
      "text/plain": [
       "<matplotlib.figure.Figure at 0x7fe70b06c7f0>"
      ]
     },
     "metadata": {
      "needs_background": "light"
     },
     "output_type": "display_data"
    },
    {
     "data": {
      "image/png": "[encoded data removed]",
      "text/plain": [
       "<matplotlib.figure.Figure at 0x7fe70af7cfd0>"
      ]
     },
     "metadata": {
      "needs_background": "light"
     },
     "output_type": "display_data"
    },
    {
     "data": {
      "image/png": "[encoded data removed]",
      "text/plain": [
       "<matplotlib.figure.Figure at 0x7fe70af316d8>"
      ]
     },
     "metadata": {
      "needs_background": "light"
     },
     "output_type": "display_data"
    },
    {
     "data": {
      "image/png": "[encoded data removed]",
      "text/plain": [
       "<matplotlib.figure.Figure at 0x7fe70ae66ba8>"
      ]
     },
     "metadata": {
      "needs_background": "light"
     },
     "output_type": "display_data"
    }
   ],
   "source": [
    "for column in columns:\n",
    "    plot(column, threshold, missing_less_20, missing_more_20)"
   ]
  },
  {
   "cell_type": "markdown",
   "metadata": {},
   "source": [
    "#### Discussion 1.1.3: Assess Missing Data in Each Row\n",
    "\n",
    "We can observe that the rows that have more than 20 missing values are qualitatively different from rows with fewer or no missing values.\n",
    "\n",
    "So this data is special."
   ]
  },
  {
   "cell_type": "markdown",
   "metadata": {},
   "source": [
    "### Step 1.2: Select and Re-Encode Features\n",
    "\n",
    "Checking for missing data isn't the only way in which you can prepare a dataset for analysis. Since the unsupervised learning techniques to be used will only work on data that is encoded numerically, you need to make a few encoding changes or additional assumptions to be able to make progress. In addition, while almost all of the values in the dataset are encoded using numbers, not all of them represent numeric values. Check the third column of the feature summary (`feat_info`) for a summary of types of measurement.\n",
    "- For numeric and interval data, these features can be kept without changes.\n",
    "- Most of the variables in the dataset are ordinal in nature. While ordinal values may technically be non-linear in spacing, make the simplifying assumption that the ordinal variables can be treated as being interval in nature (that is, kept without any changes).\n",
    "- Special handling may be necessary for the remaining two variable types: categorical, and 'mixed'.\n",
    "\n",
    "In the first two parts of this sub-step, you will perform an investigation of the categorical and mixed-type features and make a decision on each of them, whether you will keep, drop, or re-encode each. Then, in the last part, you will create a new data frame with only the selected and engineered columns.\n",
    "\n",
    "Data wrangling is often the trickiest part of the data analysis process, and there's a lot of it to be done here. But stick with it: once you're done with this step, you'll be ready to get to the machine learning parts of the project!"
   ]
  },
  {
   "cell_type": "code",
   "execution_count": 17,
   "metadata": {},
   "outputs": [
    {
     "name": "stdout",
     "output_type": "stream",
     "text": [
      "Int64Index([0, 11, 40, 43, 47, 64], dtype='int64')\n"
     ]
    }
   ],
   "source": [
    "print(feat_info[feat_info['attribute'].isin(dropped_columns)].index)\n",
    "index = feat_info[feat_info['attribute'].isin(dropped_columns)].index"
   ]
  },
  {
   "cell_type": "code",
   "execution_count": 18,
   "metadata": {},
   "outputs": [
    {
     "data": {
      "text/plain": [
       "ordinal        49\n",
       "categorical    18\n",
       "mixed           6\n",
       "numeric         6\n",
       "Name: type, dtype: int64"
      ]
     },
     "execution_count": 18,
     "metadata": {},
     "output_type": "execute_result"
    }
   ],
   "source": [
    "# How many features are there of each data type?\n",
    "feat_info_cleaned = feat_info.drop(index=index)\n",
    "feat_info_cleaned['type'].value_counts()\n"
   ]
  },
  {
   "cell_type": "markdown",
   "metadata": {},
   "source": [
    "#### Step 1.2.1: Re-Encode Categorical Features\n",
    "\n",
    "For categorical data, you would ordinarily need to encode the levels as dummy variables. Depending on the number of categories, perform one of the following:\n",
    "- For binary (two-level) categoricals that take numeric values, you can keep them without needing to do anything.\n",
    "- There is one binary variable that takes on non-numeric values. For this one, you need to re-encode the values as numbers or create a dummy variable.\n",
    "- For multi-level categoricals (three or more values), you can choose to encode the values using multiple dummy variables (e.g. via [OneHotEncoder](http://scikit-learn.org/stable/modules/generated/sklearn.preprocessing.OneHotEncoder.html)), or (to keep things straightforward) just drop them from the analysis. As always, document your choices in the Discussion section."
   ]
  },
  {
   "cell_type": "code",
   "execution_count": 19,
   "metadata": {},
   "outputs": [
    {
     "name": "stdout",
     "output_type": "stream",
     "text": [
      "2            ANREDE_KZ\n",
      "3        CJT_GESAMTTYP\n",
      "10           FINANZTYP\n",
      "12     GFK_URLAUBERTYP\n",
      "13    GREEN_AVANTGARDE\n",
      "17     LP_FAMILIE_FEIN\n",
      "18     LP_FAMILIE_GROB\n",
      "19      LP_STATUS_FEIN\n",
      "20      LP_STATUS_GROB\n",
      "21    NATIONALITAET_KZ\n",
      "38         SHOPPER_TYP\n",
      "39             SOHO_KZ\n",
      "41            VERS_TYP\n",
      "42            ZABEOTYP\n",
      "52         GEBAEUDETYP\n",
      "55         OST_WEST_KZ\n",
      "57     CAMEO_DEUG_2015\n",
      "58      CAMEO_DEU_2015\n",
      "Name: attribute, dtype: object\n",
      "[2 1]\n",
      "[  5.   3.   2.   4.   1.   6.  nan]\n",
      "[1 6 5 2 4 3]\n",
      "[ 10.   1.   5.  12.   9.   3.   8.  11.   4.   2.   7.   6.  nan]\n",
      "[0 1]\n",
      "[  5.   1.  nan  10.   2.   7.  11.   8.   4.   6.   9.   3.]\n",
      "[  3.   1.  nan   5.   2.   4.]\n",
      "[  2.   3.   9.   4.   1.  10.   5.   8.   6.   7.  nan]\n",
      "[  1.   2.   4.   5.   3.  nan]\n",
      "[  1.   3.   2.  nan]\n",
      "[  3.   2.   1.   0.  nan]\n",
      "[ 1.  0.]\n",
      "[  2.   1.  nan]\n",
      "[5 3 4 1 6 2]\n",
      "[ 8.  1.  3.  2.  6.  4.  5.]\n",
      "['W' 'O']\n",
      "['8' '4' '2' '6' '1' '9' '5' '7' nan '3']\n",
      "['8A' '4C' '2A' '6B' '8C' '4A' '2D' '1A' '1E' '9D' '5C' '8B' '7A' '5D' '9E'\n",
      " nan '9B' '1B' '3D' '4E' '4B' '3C' '5A' '7B' '9A' '6D' '6E' '2C' '7C' '9C'\n",
      " '7D' '5E' '1D' '8D' '6C' '6A' '5B' '4D' '3A' '2B' '7E' '3B' '6F' '5F' '1C']\n",
      "['ANREDE_KZ', 'GREEN_AVANTGARDE', 'SOHO_KZ', 'OST_WEST_KZ'] ['CJT_GESAMTTYP', 'FINANZTYP', 'GFK_URLAUBERTYP', 'LP_FAMILIE_FEIN', 'LP_FAMILIE_GROB', 'LP_STATUS_FEIN', 'LP_STATUS_GROB', 'NATIONALITAET_KZ', 'SHOPPER_TYP', 'VERS_TYP', 'ZABEOTYP', 'GEBAEUDETYP', 'CAMEO_DEUG_2015', 'CAMEO_DEU_2015']\n"
     ]
    }
   ],
   "source": [
    "# Assess categorical variables: which are binary, which are multi-level, and\n",
    "# which one needs to be re-encoded?\n",
    "cat_features = feat_info_cleaned[feat_info_cleaned.type == 'categorical'].attribute\n",
    "print(cat_features)\n",
    "\n",
    "binary = []\n",
    "multi = []\n",
    "for feature in cat_features:\n",
    "    print(missing_less_20[feature].unique())\n",
    "    if len(missing_less_20[feature].unique()) == 2:\n",
    "        binary.append(feature)\n",
    "    else:\n",
    "        multi.append(feature)\n",
    "print(binary, multi)"
   ]
  },
  {
   "cell_type": "code",
   "execution_count": 20,
   "metadata": {},
   "outputs": [
    {
     "name": "stderr",
     "output_type": "stream",
     "text": [
      "/opt/conda/lib/python3.6/site-packages/pandas/core/generic.py:5890: SettingWithCopyWarning: \n",
      "A value is trying to be set on a copy of a slice from a DataFrame\n",
      "\n",
      "See the caveats in the documentation: http://pandas.pydata.org/pandas-docs/stable/indexing.html#indexing-view-versus-copy\n",
      "  self._update_inplace(new_data)\n"
     ]
    }
   ],
   "source": [
    "# Re-encode categorical variable(s) to be kept in the analysis.\n",
    "# for binary\n",
    "missing_less_20['ANREDE_KZ'].replace({2:0, 1:1}, inplace=True)\n",
    "missing_less_20['SOHO_KZ'].replace({1.:1, 0.:0}, inplace=True)\n",
    "missing_less_20[\"OST_WEST_KZ\"].replace({'W':0,'O':1},inplace=True)\n",
    "missing_less_20[\"OST_WEST_KZ\"].astype('int',inplace=True)\n",
    "\n",
    "#for multi\n",
    "missing_less_20 = pd.get_dummies(data=missing_less_20, columns=multi)"
   ]
  },
  {
   "cell_type": "markdown",
   "metadata": {},
   "source": [
    "#### Discussion 1.2.1: Re-Encode Categorical Features\n",
    "\n",
    "- For binary features, Some already had there values [0, 1] and the others had There values transformed into [0, 1].\n",
    "- For multi-level features, I did one hot encoding using pandas get_dummies() method."
   ]
  },
  {
   "cell_type": "markdown",
   "metadata": {},
   "source": [
    "#### Step 1.2.2: Engineer Mixed-Type Features\n",
    "\n",
    "There are a handful of features that are marked as \"mixed\" in the feature summary that require special treatment in order to be included in the analysis. There are two in particular that deserve attention; the handling of the rest are up to your own choices:\n",
    "- \"PRAEGENDE_JUGENDJAHRE\" combines information on three dimensions: generation by decade, movement (mainstream vs. avantgarde), and nation (east vs. west). While there aren't enough levels to disentangle east from west, you should create two new variables to capture the other two dimensions: an interval-type variable for decade, and a binary variable for movement.\n",
    "- \"CAMEO_INTL_2015\" combines information on two axes: wealth and life stage. Break up the two-digit codes by their 'tens'-place and 'ones'-place digits into two new ordinal variables (which, for the purposes of this project, is equivalent to just treating them as their raw numeric values).\n",
    "- If you decide to keep or engineer new features around the other mixed-type features, make sure you note your steps in the Discussion section.\n",
    "\n",
    "Be sure to check `Data_Dictionary.md` for the details needed to finish these tasks."
   ]
  },
  {
   "cell_type": "code",
   "execution_count": 21,
   "metadata": {},
   "outputs": [],
   "source": [
    "# Investigate \"PRAEGENDE_JUGENDJAHRE\" and engineer two new variables.\n",
    "\n",
    "# Movement\n",
    "mainstream = [1, 3, 5, 8, 10, 12, 14]\n",
    "missing_less_20[\"PRAEGENDE_JUGENDJAHRE_MOVEMENT\"] = missing_less_20[\"PRAEGENDE_JUGENDJAHRE\"].apply(lambda x:1 if x in mainstream else 0)\n",
    "\n",
    "# Decade\n",
    "decade_dict = {1:1, 2:1, # 40s\n",
    "               3:2, 4:2, # 50s\n",
    "               5:3, 6:3, 7:3, # 60s\n",
    "               8:4, 9:4, # 70s\n",
    "              10:5, 11:5, 12:5, 13:5, # 80s\n",
    "              14:6, 15:6 # 90s\n",
    "              }\n",
    "missing_less_20[\"PRAEGENDE_JUGENDJAHRE_DECADE\"] = missing_less_20[\"PRAEGENDE_JUGENDJAHRE\"].replace(decade_dict)\n",
    "\n",
    "# dropoing\n",
    "missing_less_20 = missing_less_20.drop(columns=[\"PRAEGENDE_JUGENDJAHRE\"])"
   ]
  },
  {
   "cell_type": "code",
   "execution_count": 22,
   "metadata": {},
   "outputs": [],
   "source": [
    "# Investigate \"CAMEO_INTL_2015\" and engineer two new variables.\n",
    "def wealth(value):\n",
    "    if(pd.isnull(value)):\n",
    "        return value\n",
    "    return int(value[0])\n",
    "\n",
    "def life_stage(value):\n",
    "    if(pd.isnull(value)):\n",
    "        return value\n",
    "    return int(value[1])\n",
    "\n",
    "missing_less_20['CAMEO_INTL_2015_WEALTH'] = missing_less_20['CAMEO_INTL_2015'].apply(wealth)\n",
    "missing_less_20['CAMEO_INTL_2015_LIFE_STAGE'] = missing_less_20['CAMEO_INTL_2015'].apply(life_stage)\n",
    "\n",
    "missing_less_20 = missing_less_20.drop(columns=['CAMEO_INTL_2015'])"
   ]
  },
  {
   "cell_type": "code",
   "execution_count": 23,
   "metadata": {},
   "outputs": [],
   "source": [
    "# Droping the other mixed features\n",
    "mixed_col = feat_info_cleaned[feat_info_cleaned['type'] == 'mixed'].attribute.tolist()\n",
    "mixed_col.remove('CAMEO_INTL_2015')\n",
    "mixed_col.remove(\"PRAEGENDE_JUGENDJAHRE\")\n",
    "missing_less_20.drop(columns=mixed_col, inplace=True)"
   ]
  },
  {
   "cell_type": "markdown",
   "metadata": {},
   "source": [
    "#### Discussion 1.2.2: Engineer Mixed-Type Features\n",
    "\n",
    "I have decoded both `CAMEO_INTL_2015` and `PRAEGENDE_JUGENDJAHRE`. Each one was decoded into two other features.\n",
    "- I decoded `PRAEGENDE_JUGENDJAHRE` to `PRAEGENDE_JUGENDJAHRE_MOVEMENT` and `PRAEGENDE_JUGENDJAHRE_DECADE`.\n",
    "- I doceded `CAMEO_INTL_2015` to `CAMEO_INTL_2015_WEALTH` and `CAMEO_INTL_2015_LIFE_STAGE`.\n",
    "\n",
    "I dropped the other mixed features to simplify the project."
   ]
  },
  {
   "cell_type": "markdown",
   "metadata": {},
   "source": [
    "#### Step 1.2.3: Complete Feature Selection\n",
    "\n",
    "In order to finish this step up, you need to make sure that your data frame now only has the columns that you want to keep. To summarize, the dataframe should consist of the following:\n",
    "- All numeric, interval, and ordinal type columns from the original dataset.\n",
    "- Binary categorical features (all numerically-encoded).\n",
    "- Engineered features from other multi-level categorical features and mixed features.\n",
    "\n",
    "Make sure that for any new columns that you have engineered, that you've excluded the original columns from the final dataset. Otherwise, their values will interfere with the analysis later on the project. For example, you should not keep \"PRAEGENDE_JUGENDJAHRE\", since its values won't be useful for the algorithm: only the values derived from it in the engineered features you created should be retained. As a reminder, your data should only be from **the subset with few or no missing values**."
   ]
  },
  {
   "cell_type": "code",
   "execution_count": 24,
   "metadata": {},
   "outputs": [],
   "source": [
    "# If there are other re-engineering tasks you need to perform, make sure you\n",
    "# take care of them here. (Dealing with missing data will come in step 2.1.)\n",
    "\n"
   ]
  },
  {
   "cell_type": "code",
   "execution_count": 25,
   "metadata": {},
   "outputs": [
    {
     "name": "stdout",
     "output_type": "stream",
     "text": [
      "<class 'pandas.core.frame.DataFrame'>\n",
      "Int64Index: 797426 entries, 1 to 891220\n",
      "Columns: 193 entries, ALTERSKATEGORIE_GROB to CAMEO_INTL_2015_LIFE_STAGE\n",
      "dtypes: float64(39), int64(24), uint8(130)\n",
      "memory usage: 508.2 MB\n"
     ]
    }
   ],
   "source": [
    "# Do whatever you need to in order to ensure that the dataframe only contains\n",
    "# the columns that should be passed to the algorithm functions.\n",
    "\n",
    "missing_less_20.info()"
   ]
  },
  {
   "cell_type": "markdown",
   "metadata": {},
   "source": [
    "### Step 1.3: Create a Cleaning Function\n",
    "\n",
    "Even though you've finished cleaning up the general population demographics data, it's important to look ahead to the future and realize that you'll need to perform the same cleaning steps on the customer demographics data. In this substep, complete the function below to execute the main feature selection, encoding, and re-engineering steps you performed above. Then, when it comes to looking at the customer data in Step 3, you can just run this function on that DataFrame to get the trimmed dataset in a single step."
   ]
  },
  {
   "cell_type": "code",
   "execution_count": 26,
   "metadata": {},
   "outputs": [],
   "source": [
    "def clean_data(df):\n",
    "    \"\"\"\n",
    "    Perform feature trimming, re-encoding, and engineering for demographics\n",
    "    data\n",
    "    \n",
    "    INPUT: Demographics DataFrame\n",
    "    OUTPUT: Trimmed and cleaned demographics DataFrame\n",
    "    \"\"\"\n",
    "    \n",
    "    # Put in code here to execute all main cleaning steps:\n",
    "    # convert missing value codes into NaNs, ...\n",
    "    feat_info = pd.read_csv('AZDIAS_Feature_Summary.csv', ';')\n",
    "    for col in df:\n",
    "        unknown_val = feat_info[feat_info['attribute'] == col]['missing_or_unknown'] # to get the missing values of each col\n",
    "        lst = unknown_val.values[0].strip('[]').split(',')# to make it as a list\n",
    "        for i in lst:\n",
    "            if i == '':\n",
    "                continue\n",
    "            if i != 'X' and i != 'XX':\n",
    "                i = int(i)\n",
    "            df[col] = df[col].replace(i, np.nan)\n",
    "    \n",
    "    \n",
    "    # remove selected columns and rows, ...\n",
    "    # colums\n",
    "    dropped_columns = ['AGER_TYP', 'GEBURTSJAHR', 'TITEL_KZ', 'ALTER_HH', 'KK_KUNDENTYP', 'KBA05_BAUMAX']\n",
    "    df = df.drop(dropped_columns, axis=1)\n",
    "    index = feat_info[feat_info.attribute.isin(dropped_columns)].index\n",
    "    feat_info = feat_info.drop(index=index)\n",
    "    \n",
    "    # rows\n",
    "    missing_values_per_row = df.isna().sum(axis=1)\n",
    "    threshold = 20\n",
    "    df = df[missing_values_per_row <= threshold]\n",
    "    \n",
    "    # select, re-encode, and engineer column values.\n",
    "    # categorical features re-encoding\n",
    "        # binary re-encoding\n",
    "    df['ANREDE_KZ'].replace({2:0, 1:1}, inplace=True)\n",
    "    df['SOHO_KZ'].replace({1.:1, 0.:0}, inplace=True)\n",
    "    df[\"OST_WEST_KZ\"].replace({'W':0,'O':1},inplace=True)\n",
    "    df[\"OST_WEST_KZ\"].astype('int',inplace=True)\n",
    "    \n",
    "        # multi-level re-encoding\n",
    "    df = pd.get_dummies(data=df, columns=['CJT_GESAMTTYP', 'FINANZTYP', 'GFK_URLAUBERTYP', 'LP_FAMILIE_FEIN', 'LP_FAMILIE_GROB', 'LP_STATUS_FEIN', 'LP_STATUS_GROB', 'NATIONALITAET_KZ', 'SHOPPER_TYP', 'VERS_TYP', 'ZABEOTYP', 'GEBAEUDETYP', 'CAMEO_DEUG_2015', 'CAMEO_DEU_2015'])\n",
    "    \n",
    "    # Engineer Mixed-Type Features\n",
    "    # Investigate \"PRAEGENDE_JUGENDJAHRE\" and engineer two new variables.\n",
    "    # Movement\n",
    "    mainstream = [1, 3, 5, 8, 10, 12, 14]\n",
    "    df[\"PRAEGENDE_JUGENDJAHRE_MOVEMENT\"] = df[\"PRAEGENDE_JUGENDJAHRE\"].apply(lambda x:1 if x in mainstream else 0)\n",
    "    # Decade\n",
    "    decade_dict = {1:1, 2:1, # 40s\n",
    "               3:2, 4:2, # 50s\n",
    "               5:3, 6:3, 7:3, # 60s\n",
    "               8:4, 9:4, # 70s\n",
    "              10:5, 11:5, 12:5, 13:5, # 80s\n",
    "              14:6, 15:6 # 90s\n",
    "              }\n",
    "    df[\"PRAEGENDE_JUGENDJAHRE_DECADE\"] = df[\"PRAEGENDE_JUGENDJAHRE\"].replace(decade_dict)\n",
    "    # dropoing\n",
    "    df = df.drop(columns=[\"PRAEGENDE_JUGENDJAHRE\"])\n",
    "    \n",
    "    # Investigate \"CAMEO_INTL_2015\" and engineer two new variables.\n",
    "    def wealth(value):\n",
    "        if(pd.isnull(value)):\n",
    "            return value\n",
    "        return int(value[0])\n",
    "\n",
    "    def life_stage(value):\n",
    "        if(pd.isnull(value)):\n",
    "            return value\n",
    "        return int(value[1])\n",
    "\n",
    "    df['CAMEO_INTL_2015_WEALTH'] = df['CAMEO_INTL_2015'].apply(wealth)\n",
    "    df['CAMEO_INTL_2015_LIFE_STAGE'] = df['CAMEO_INTL_2015'].apply(life_stage)\n",
    "\n",
    "    df = df.drop(columns=['CAMEO_INTL_2015'])\n",
    "    \n",
    "    # Droping the other mixed features\n",
    "    mixed_col = feat_info[feat_info['type'] == 'mixed'].attribute.tolist()\n",
    "    mixed_col.remove('CAMEO_INTL_2015')\n",
    "    mixed_col.remove(\"PRAEGENDE_JUGENDJAHRE\")\n",
    "    df.drop(columns=mixed_col, inplace=True)\n",
    "    \n",
    "    \n",
    "    # Return the cleaned dataframe.\n",
    "    return df\n",
    "    "
   ]
  },
  {
   "cell_type": "markdown",
   "metadata": {},
   "source": [
    "## Step 2: Feature Transformation\n",
    "\n",
    "### Step 2.1: Apply Feature Scaling\n",
    "\n",
    "Before we apply dimensionality reduction techniques to the data, we need to perform feature scaling so that the principal component vectors are not influenced by the natural differences in scale for features. Starting from this part of the project, you'll want to keep an eye on the [API reference page for sklearn](http://scikit-learn.org/stable/modules/classes.html) to help you navigate to all of the classes and functions that you'll need. In this substep, you'll need to check the following:\n",
    "\n",
    "- sklearn requires that data not have missing values in order for its estimators to work properly. So, before applying the scaler to your data, make sure that you've cleaned the DataFrame of the remaining missing values. This can be as simple as just removing all data points with missing data, or applying an [Imputer](https://scikit-learn.org/0.16/modules/generated/sklearn.preprocessing.Imputer.html) to replace all missing values. You might also try a more complicated procedure where you temporarily remove missing values in order to compute the scaling parameters before re-introducing those missing values and applying imputation. Think about how much missing data you have and what possible effects each approach might have on your analysis, and justify your decision in the discussion section below.\n",
    "- For the actual scaling function, a [StandardScaler](http://scikit-learn.org/stable/modules/generated/sklearn.preprocessing.StandardScaler.html) instance is suggested, scaling each feature to mean 0 and standard deviation 1.\n",
    "- For these classes, you can make use of the `.fit_transform()` method to both fit a procedure to the data as well as apply the transformation to the data at the same time. Don't forget to keep the fit sklearn objects handy, since you'll be applying them to the customer demographics data towards the end of the project."
   ]
  },
  {
   "cell_type": "code",
   "execution_count": 27,
   "metadata": {},
   "outputs": [],
   "source": [
    "# If you've not yet cleaned the dataset of all NaN values, then investigate and\n",
    "# do that now.\n",
    "azdias = missing_less_20\n",
    "\n",
    "azdias_dropped_missing = azdias.dropna()\n",
    "\n",
    "#azdias_imputed = azdias.copy()\n",
    "\n",
    "#imputer = Imputer(strategy='most_frequent')\n",
    "#matrix = imputer.fit_transform(azdias_imputed)\n",
    "#azdias_imputed = pd.DataFrame(matrix, columns=azdias_imputed.columns)"
   ]
  },
  {
   "cell_type": "code",
   "execution_count": 28,
   "metadata": {},
   "outputs": [
    {
     "name": "stdout",
     "output_type": "stream",
     "text": [
      "0\n"
     ]
    }
   ],
   "source": [
    "print(azdias_dropped_missing.isna().sum().sum())\n",
    "#print(azdias_imputed.isna().sum().sum())"
   ]
  },
  {
   "cell_type": "code",
   "execution_count": 29,
   "metadata": {},
   "outputs": [],
   "source": [
    "# Apply feature scaling to the general population demographics data.\n",
    "scaler = StandardScaler()\n",
    "\n",
    "feat_scaled = scaler.fit_transform(azdias_dropped_missing)\n",
    "feat_scaled = pd.DataFrame(feat_scaled, columns=azdias_dropped_missing.columns)"
   ]
  },
  {
   "cell_type": "markdown",
   "metadata": {},
   "source": [
    "### Discussion 2.1: Apply Feature Scaling\n",
    "\n",
    "I started by dropping the nan values in my data set then preformed feature scaling on it using the StandardScaler tool."
   ]
  },
  {
   "cell_type": "markdown",
   "metadata": {},
   "source": [
    "### Step 2.2: Perform Dimensionality Reduction\n",
    "\n",
    "On your scaled data, you are now ready to apply dimensionality reduction techniques.\n",
    "\n",
    "- Use sklearn's [PCA](http://scikit-learn.org/stable/modules/generated/sklearn.decomposition.PCA.html) class to apply principal component analysis on the data, thus finding the vectors of maximal variance in the data. To start, you should not set any parameters (so all components are computed) or set a number of components that is at least half the number of features (so there's enough features to see the general trend in variability).\n",
    "- Check out the ratio of variance explained by each principal component as well as the cumulative variance explained. Try plotting the cumulative or sequential values using matplotlib's [`plot()`](https://matplotlib.org/api/_as_gen/matplotlib.pyplot.plot.html) function. Based on what you find, select a value for the number of transformed features you'll retain for the clustering part of the project.\n",
    "- Once you've made a choice for the number of components to keep, make sure you re-fit a PCA instance to perform the decided-on transformation."
   ]
  },
  {
   "cell_type": "code",
   "execution_count": 30,
   "metadata": {},
   "outputs": [
    {
     "data": {
      "text/plain": [
       "'pca = PCA()\\nreduced_feat = pca.fit_transform(feat_scaled_copy)'"
      ]
     },
     "execution_count": 30,
     "metadata": {},
     "output_type": "execute_result"
    }
   ],
   "source": [
    "# Apply PCA to the data.\n",
    "'''pca = PCA()\n",
    "reduced_feat = pca.fit_transform(feat_scaled_copy)'''"
   ]
  },
  {
   "cell_type": "code",
   "execution_count": 31,
   "metadata": {},
   "outputs": [
    {
     "data": {
      "text/plain": [
       "'plt.figure(figsize=(18, 8))\\nplt.bar(range(pca.n_components_), pca.explained_variance_ratio_)\\nplt.plot(range(pca.n_components_), np.cumsum(pca.explained_variance_ratio_))\\nplt.xlabel(\"Principal component\")\\nplt.ylabel(\"Explained variance ratio and comulative sum\")\\nplt.title(\"Explained variance per principal component\")'"
      ]
     },
     "execution_count": 31,
     "metadata": {},
     "output_type": "execute_result"
    }
   ],
   "source": [
    "# Investigate the variance accounted for by each principal component.\n",
    "'''plt.figure(figsize=(18, 8))\n",
    "plt.bar(range(pca.n_components_), pca.explained_variance_ratio_)\n",
    "plt.plot(range(pca.n_components_), np.cumsum(pca.explained_variance_ratio_))\n",
    "plt.xlabel(\"Principal component\")\n",
    "plt.ylabel(\"Explained variance ratio and comulative sum\")\n",
    "plt.title(\"Explained variance per principal component\")'''"
   ]
  },
  {
   "cell_type": "code",
   "execution_count": 32,
   "metadata": {},
   "outputs": [
    {
     "data": {
      "text/plain": [
       "\"for i in range(10,190,10):\\n    percentage = sum(pca.explained_variance_ratio_[:i]) * 100\\n    print('{} components caputer {}% of variance'.format(i, percentage))\\n    if percentage >= 85:\\n        break\""
      ]
     },
     "execution_count": 32,
     "metadata": {},
     "output_type": "execute_result"
    }
   ],
   "source": [
    "'''for i in range(10,190,10):\n",
    "    percentage = sum(pca.explained_variance_ratio_[:i]) * 100\n",
    "    print('{} components caputer {}% of variance'.format(i, percentage))\n",
    "    if percentage >= 85:\n",
    "        break'''"
   ]
  },
  {
   "cell_type": "markdown",
   "metadata": {},
   "source": [
    "When running the cells above then trying to run the cells below the kernel dies. So I put the code in quates."
   ]
  },
  {
   "cell_type": "code",
   "execution_count": 33,
   "metadata": {},
   "outputs": [],
   "source": [
    "# Re-apply PCA to the data while selecting for number of components to retain.\\\n",
    "pca = PCA(n_components=100)"
   ]
  },
  {
   "cell_type": "code",
   "execution_count": 34,
   "metadata": {},
   "outputs": [],
   "source": [
    "reduced_feat = pca.fit_transform(feat_scaled)"
   ]
  },
  {
   "cell_type": "code",
   "execution_count": 35,
   "metadata": {},
   "outputs": [
    {
     "data": {
      "text/plain": [
       "Text(0.5,1,'Explained variance per principal component')"
      ]
     },
     "execution_count": 35,
     "metadata": {},
     "output_type": "execute_result"
    },
    {
     "data": {
      "image/png": "[encoded data removed]",
      "text/plain": [
       "<matplotlib.figure.Figure at 0x7fe70adc1cf8>"
      ]
     },
     "metadata": {
      "needs_background": "light"
     },
     "output_type": "display_data"
    }
   ],
   "source": [
    "plt.figure(figsize=(18, 8))\n",
    "plt.bar(range(pca.n_components_), pca.explained_variance_ratio_)\n",
    "plt.plot(range(pca.n_components_), np.cumsum(pca.explained_variance_ratio_))\n",
    "plt.xlabel(\"Principal component\")\n",
    "plt.ylabel(\"Explained variance ratio and comulative sum\")\n",
    "plt.title(\"Explained variance per principal component\")"
   ]
  },
  {
   "cell_type": "markdown",
   "metadata": {},
   "source": [
    "### Discussion 2.2: Perform Dimensionality Reduction\n",
    "\n",
    "After looking closely to the reduced features, I found that we reduced the features from 193 to 100 features when would get about 90% of the variance in the data and with almost half the features."
   ]
  },
  {
   "cell_type": "markdown",
   "metadata": {},
   "source": [
    "### Step 2.3: Interpret Principal Components\n",
    "\n",
    "Now that we have our transformed principal components, it's a nice idea to check out the weight of each variable on the first few components to see if they can be interpreted in some fashion.\n",
    "\n",
    "As a reminder, each principal component is a unit vector that points in the direction of highest variance (after accounting for the variance captured by earlier principal components). The further a weight is from zero, the more the principal component is in the direction of the corresponding feature. If two features have large weights of the same sign (both positive or both negative), then increases in one tend expect to be associated with increases in the other. To contrast, features with different signs can be expected to show a negative correlation: increases in one variable should result in a decrease in the other.\n",
    "\n",
    "- To investigate the features, you should map each weight to their corresponding feature name, then sort the features according to weight. The most interesting features for each principal component, then, will be those at the beginning and end of the sorted list. Use the data dictionary document to help you understand these most prominent features, their relationships, and what a positive or negative value on the principal component might indicate.\n",
    "- You should investigate and interpret feature associations from the first three principal components in this substep. To help facilitate this, you should write a function that you can call at any time to print the sorted list of feature weights, for the *i*-th principal component. This might come in handy in the next step of the project, when you interpret the tendencies of the discovered clusters."
   ]
  },
  {
   "cell_type": "code",
   "execution_count": 36,
   "metadata": {},
   "outputs": [
    {
     "data": {
      "text/plain": [
       "LP_STATUS_GROB_1.0                0.192310\n",
       "HH_EINKOMMEN_SCORE                0.180704\n",
       "CAMEO_INTL_2015_WEALTH            0.179944\n",
       "PLZ8_ANTG3                        0.175771\n",
       "PLZ8_ANTG4                        0.170214\n",
       "ORTSGR_KLS9                       0.147056\n",
       "EWDICHTE                          0.144803\n",
       "FINANZ_HAUSBAUER                  0.135982\n",
       "FINANZ_SPARER                     0.130026\n",
       "KBA05_ANTG4                       0.124329\n",
       "LP_STATUS_FEIN_1.0                0.124137\n",
       "PLZ8_ANTG2                        0.117383\n",
       "FINANZTYP_1                       0.116839\n",
       "LP_STATUS_FEIN_2.0                0.115382\n",
       "KBA05_ANTG3                       0.114575\n",
       "ANZ_HAUSHALTE_AKTIV               0.112474\n",
       "PRAEGENDE_JUGENDJAHRE_MOVEMENT    0.111798\n",
       "ARBEIT                            0.111064\n",
       "CAMEO_DEUG_2015_9                 0.110625\n",
       "RELAT_AB                          0.101117\n",
       "SEMIO_PFLICHT                     0.096917\n",
       "PRAEGENDE_JUGENDJAHRE_DECADE      0.093747\n",
       "SEMIO_REL                         0.090926\n",
       "CAMEO_DEUG_2015_8                 0.089261\n",
       "LP_FAMILIE_FEIN_1.0               0.086083\n",
       "LP_FAMILIE_GROB_1.0               0.086083\n",
       "SEMIO_TRADV                       0.085345\n",
       "ZABEOTYP_5                        0.083886\n",
       "SEMIO_RAT                         0.082393\n",
       "SEMIO_MAT                         0.070338\n",
       "                                    ...   \n",
       "KBA13_ANZAHL_PKW                 -0.062327\n",
       "CAMEO_DEUG_2015_3                -0.063451\n",
       "NATIONALITAET_KZ_1.0             -0.064272\n",
       "LP_FAMILIE_GROB_5.0              -0.066131\n",
       "SEMIO_ERL                        -0.068894\n",
       "CAMEO_DEUG_2015_4                -0.071692\n",
       "SEMIO_LUST                       -0.079014\n",
       "ANZ_PERSONEN                     -0.084277\n",
       "CAMEO_DEUG_2015_2                -0.084946\n",
       "FINANZTYP_2                      -0.085278\n",
       "GEBAEUDETYP_1.0                  -0.086412\n",
       "BALLRAUM                         -0.090189\n",
       "ZABEOTYP_1                       -0.091419\n",
       "GEBAEUDETYP_RASTER               -0.092615\n",
       "FINANZ_VORSORGER                 -0.101945\n",
       "LP_STATUS_FEIN_9.0               -0.102082\n",
       "LP_STATUS_GROB_4.0               -0.102910\n",
       "ALTERSKATEGORIE_GROB             -0.106651\n",
       "GREEN_AVANTGARDE                 -0.111798\n",
       "CAMEO_INTL_2015_LIFE_STAGE       -0.113517\n",
       "INNENSTADT                       -0.121624\n",
       "LP_STATUS_FEIN_10.0              -0.122480\n",
       "LP_STATUS_GROB_5.0               -0.122480\n",
       "KONSUMNAEHE                      -0.128652\n",
       "PLZ8_GBZ                         -0.132323\n",
       "PLZ8_ANTG1                       -0.178236\n",
       "KBA05_GBZ                        -0.178388\n",
       "KBA05_ANTG1                      -0.190094\n",
       "FINANZ_MINIMALIST                -0.194642\n",
       "MOBI_REGIO                       -0.201601\n",
       "Name: 0, Length: 193, dtype: float64"
      ]
     },
     "execution_count": 36,
     "metadata": {},
     "output_type": "execute_result"
    }
   ],
   "source": [
    "# Map weights for the first principal component to corresponding feature names\n",
    "# and then print the linked values, sorted by weight.\n",
    "# HINT: Try defining a function here or in a new cell that you can reuse in the\n",
    "# other cells.\n",
    "\n",
    "def PCA_weights(df, pca, n):\n",
    "    weights_df=pd.DataFrame(pca.components_,columns=list(df.columns)).iloc[n]\n",
    "    weights_df.sort_values(ascending=False, inplace=True)\n",
    "    return weights_df\n",
    "\n",
    "PCA_weights(feat_scaled, pca, 0)"
   ]
  },
  {
   "cell_type": "code",
   "execution_count": 37,
   "metadata": {},
   "outputs": [
    {
     "data": {
      "text/plain": [
       "ALTERSKATEGORIE_GROB            0.226819\n",
       "FINANZ_VORSORGER                0.205861\n",
       "ZABEOTYP_3                      0.199041\n",
       "SEMIO_ERL                       0.182124\n",
       "RETOURTYP_BK_S                  0.156703\n",
       "SEMIO_LUST                      0.156380\n",
       "W_KEIT_KIND_HH                  0.129544\n",
       "LP_STATUS_FEIN_1.0              0.107551\n",
       "CJT_GESAMTTYP_2.0               0.099886\n",
       "FINANZ_HAUSBAUER                0.097345\n",
       "FINANZTYP_5                     0.092471\n",
       "SEMIO_KRIT                      0.083844\n",
       "PLZ8_ANTG3                      0.083121\n",
       "PLZ8_ANTG4                      0.078754\n",
       "FINANZTYP_2                     0.077376\n",
       "EWDICHTE                        0.076555\n",
       "ORTSGR_KLS9                     0.076075\n",
       "CAMEO_INTL_2015_WEALTH          0.072517\n",
       "SHOPPER_TYP_3.0                 0.072510\n",
       "LP_FAMILIE_FEIN_1.0             0.071442\n",
       "LP_FAMILIE_GROB_1.0             0.071442\n",
       "FINANZ_MINIMALIST               0.067511\n",
       "CJT_GESAMTTYP_1.0               0.067252\n",
       "FINANZTYP_6                     0.064325\n",
       "SEMIO_KAEM                      0.062878\n",
       "NATIONALITAET_KZ_1.0            0.061238\n",
       "KBA05_ANTG4                     0.059884\n",
       "ARBEIT                          0.059645\n",
       "GFK_URLAUBERTYP_4.0             0.057172\n",
       "PLZ8_ANTG2                      0.055926\n",
       "                                  ...   \n",
       "INNENSTADT                     -0.062128\n",
       "SEMIO_SOZ                      -0.063723\n",
       "PLZ8_GBZ                       -0.064508\n",
       "LP_FAMILIE_GROB_4.0            -0.069248\n",
       "GFK_URLAUBERTYP_9.0            -0.071510\n",
       "ZABEOTYP_1                     -0.072183\n",
       "ANZ_PERSONEN                   -0.074694\n",
       "FINANZTYP_3                    -0.075710\n",
       "KBA05_ANTG1                    -0.076994\n",
       "KBA05_GBZ                      -0.080261\n",
       "ZABEOTYP_5                     -0.080904\n",
       "LP_STATUS_FEIN_5.0             -0.081076\n",
       "PLZ8_ANTG1                     -0.082942\n",
       "MOBI_REGIO                     -0.083242\n",
       "LP_STATUS_FEIN_2.0             -0.087744\n",
       "FINANZTYP_4                    -0.090167\n",
       "ZABEOTYP_4                     -0.107155\n",
       "SEMIO_MAT                      -0.120774\n",
       "FINANZTYP_1                    -0.121088\n",
       "SEMIO_FAM                      -0.128677\n",
       "SEMIO_RAT                      -0.162701\n",
       "ONLINE_AFFINITAET              -0.163050\n",
       "SEMIO_KULT                     -0.164706\n",
       "FINANZ_ANLEGER                 -0.193911\n",
       "SEMIO_TRADV                    -0.203342\n",
       "SEMIO_PFLICHT                  -0.206810\n",
       "FINANZ_UNAUFFAELLIGER          -0.207268\n",
       "FINANZ_SPARER                  -0.213397\n",
       "SEMIO_REL                      -0.215614\n",
       "PRAEGENDE_JUGENDJAHRE_DECADE   -0.229034\n",
       "Name: 1, Length: 193, dtype: float64"
      ]
     },
     "execution_count": 37,
     "metadata": {},
     "output_type": "execute_result"
    }
   ],
   "source": [
    "# Map weights for the second principal component to corresponding feature names\n",
    "# and then print the linked values, sorted by weight.\n",
    "\n",
    "PCA_weights(feat_scaled, pca, 1)"
   ]
  },
  {
   "cell_type": "code",
   "execution_count": 38,
   "metadata": {},
   "outputs": [
    {
     "data": {
      "text/plain": [
       "ANREDE_KZ                         0.341576\n",
       "SEMIO_VERT                        0.319752\n",
       "SEMIO_FAM                         0.257871\n",
       "SEMIO_SOZ                         0.255435\n",
       "SEMIO_KULT                        0.243393\n",
       "FINANZTYP_5                       0.139268\n",
       "FINANZ_MINIMALIST                 0.129430\n",
       "SHOPPER_TYP_0.0                   0.126227\n",
       "ZABEOTYP_1                        0.118487\n",
       "SEMIO_REL                         0.116976\n",
       "RETOURTYP_BK_S                    0.084144\n",
       "GREEN_AVANTGARDE                  0.080873\n",
       "SEMIO_MAT                         0.079367\n",
       "W_KEIT_KIND_HH                    0.072363\n",
       "EWDICHTE                          0.068643\n",
       "ORTSGR_KLS9                       0.067276\n",
       "LP_STATUS_FEIN_10.0               0.056151\n",
       "LP_STATUS_GROB_5.0                0.056151\n",
       "ZABEOTYP_6                        0.051184\n",
       "PLZ8_ANTG4                        0.050300\n",
       "PLZ8_ANTG3                        0.049886\n",
       "FINANZ_VORSORGER                  0.048218\n",
       "LP_STATUS_FEIN_3.0                0.046244\n",
       "SHOPPER_TYP_1.0                   0.044696\n",
       "LP_STATUS_FEIN_1.0                0.042796\n",
       "PLZ8_ANTG2                        0.036488\n",
       "RELAT_AB                          0.034994\n",
       "LP_STATUS_GROB_3.0                0.034185\n",
       "GEBAEUDETYP_3.0                   0.033331\n",
       "SEMIO_LUST                        0.032933\n",
       "                                    ...   \n",
       "LP_FAMILIE_FEIN_5.0              -0.030262\n",
       "CJT_GESAMTTYP_2.0                -0.031453\n",
       "PLZ8_GBZ                         -0.032896\n",
       "ZABEOTYP_3                       -0.035421\n",
       "FINANZ_UNAUFFAELLIGER            -0.040356\n",
       "LP_FAMILIE_FEIN_4.0              -0.042302\n",
       "GEBAEUDETYP_RASTER               -0.042540\n",
       "KKK                              -0.043339\n",
       "HH_EINKOMMEN_SCORE               -0.046327\n",
       "PLZ8_ANTG1                       -0.046559\n",
       "SHOPPER_TYP_3.0                  -0.049440\n",
       "KONSUMNAEHE                      -0.051273\n",
       "FINANZ_SPARER                    -0.053327\n",
       "PRAEGENDE_JUGENDJAHRE_DECADE     -0.053480\n",
       "BALLRAUM                         -0.054152\n",
       "LP_FAMILIE_GROB_3.0              -0.058655\n",
       "INNENSTADT                       -0.059973\n",
       "FINANZ_HAUSBAUER                 -0.063482\n",
       "ZABEOTYP_4                       -0.066185\n",
       "LP_STATUS_FEIN_4.0               -0.076024\n",
       "PRAEGENDE_JUGENDJAHRE_MOVEMENT   -0.080873\n",
       "LP_STATUS_FEIN_2.0               -0.081554\n",
       "FINANZTYP_1                      -0.097612\n",
       "SHOPPER_TYP_2.0                  -0.107003\n",
       "FINANZ_ANLEGER                   -0.155608\n",
       "SEMIO_RAT                        -0.157340\n",
       "SEMIO_ERL                        -0.199700\n",
       "SEMIO_KRIT                       -0.259210\n",
       "SEMIO_DOM                        -0.279378\n",
       "SEMIO_KAEM                       -0.312358\n",
       "Name: 2, Length: 193, dtype: float64"
      ]
     },
     "execution_count": 38,
     "metadata": {},
     "output_type": "execute_result"
    }
   ],
   "source": [
    "# Map weights for the third principal component to corresponding feature names\n",
    "# and then print the linked values, sorted by weight.\n",
    "\n",
    "PCA_weights(feat_scaled, pca, 2)"
   ]
  },
  {
   "cell_type": "markdown",
   "metadata": {},
   "source": [
    "### Discussion 2.3: Interpret Principal Components\n",
    "\n",
    "By analyzing the PCA wights from the first three components we find:\n",
    "\n",
    "#### First Component:\n",
    "    LP_STATUS_GROB_1.0, HH_EINKOMMEN_SCORE, CAMEO_INTL_2015_WEALTH, PLZ8_ANTG3, PLZ8_ANTG4\n",
    "    Social status -> rough scale, Estimated household net income, German CAMEO: Wealth, Number of 6-10 family houses in the PLZ8 region, Number of 10+ family houses in the PLZ8 region\n",
    "    these features have the top five positive wights so they can be correlated\n",
    "    \n",
    "    PLZ8_ANTG1, KBA05_GBZ, KBA05_ANTG1, FINANZ_MINIMALIST, MOBI_REGIO\n",
    "    Number of 1-2 family houses in the PLZ8 region, Number of buildings in the microcell, Number of 1-2 family houses in the microcell, Financial typology -> low financial interest, Movement patterns\n",
    "    these features have the top five nigative wights so they can be correlated\n",
    "\n",
    "#### Second Component:\n",
    "    ALTERSKATEGORIE_GROB, FINANZ_VORSORGER, ZABEOTYP_3, SEMIO_ERL, RETOURTYP_BK_S\n",
    "    Estimated age based on given name analysis, Financial typology -> be prepared, Energy consumption -> fair supplied, Personality typology -> event-oriented, Return type\n",
    "    these features have the top five positive wights so they can be correlated\n",
    "\n",
    "    SEMIO_PFLICHT, FINANZ_UNAUFFAELLIGER, FINANZ_SPARER, SEMIO_REL, PRAEGENDE_JUGENDJAHRE_DECADE\n",
    "    Personality typology -> dutiful, Financial typology -> inconspicuous, Financial typology -> money-saver, Personality typology -> religious, movement of person's youth\n",
    "    these features have the top five nigative wights so they can be correlated\n",
    "\n",
    "#### Third Component:\n",
    "    ANREDE_KZ, SEMIO_VERT, SEMIO_FAM, SEMIO_SOZ, SEMIO_KULT\n",
    "    Gender, Personality typology --> dreamful, family-minded, socially-minded, cultural-minded\n",
    "    these features have the top five positive wights so they can be correlated\n",
    "\n",
    "    SEMIO_RAT, SEMIO_ERL, SEMIO_KRIT, SEMIO_DOM, SEMIO_KAEM\n",
    "    Personality typology --> rational, event-oriented, critical-minded, dominant-minded, combative attitude\n",
    "    these features have the top five nigative wights so they can be correlated"
   ]
  },
  {
   "cell_type": "markdown",
   "metadata": {},
   "source": [
    "## Step 3: Clustering\n",
    "\n",
    "### Step 3.1: Apply Clustering to General Population\n",
    "\n",
    "You've assessed and cleaned the demographics data, then scaled and transformed them. Now, it's time to see how the data clusters in the principal components space. In this substep, you will apply k-means clustering to the dataset and use the average within-cluster distances from each point to their assigned cluster's centroid to decide on a number of clusters to keep.\n",
    "\n",
    "- Use sklearn's [KMeans](http://scikit-learn.org/stable/modules/generated/sklearn.cluster.KMeans.html#sklearn.cluster.KMeans) class to perform k-means clustering on the PCA-transformed data.\n",
    "- Then, compute the average difference from each point to its assigned cluster's center. **Hint**: The KMeans object's `.score()` method might be useful here, but note that in sklearn, scores tend to be defined so that larger is better. Try applying it to a small, toy dataset, or use an internet search to help your understanding.\n",
    "- Perform the above two steps for a number of different cluster counts. You can then see how the average distance decreases with an increasing number of clusters. However, each additional cluster provides a smaller net benefit. Use this fact to select a final number of clusters in which to group the data. **Warning**: because of the large size of the dataset, it can take a long time for the algorithm to resolve. The more clusters to fit, the longer the algorithm will take. You should test for cluster counts through at least 10 clusters to get the full picture, but you shouldn't need to test for a number of clusters above about 30.\n",
    "- Once you've selected a final number of clusters to use, re-fit a KMeans instance to perform the clustering operation. Make sure that you also obtain the cluster assignments for the general demographics data, since you'll be using them in the final Step 3.3."
   ]
  },
  {
   "cell_type": "markdown",
   "metadata": {},
   "source": [
    "# Important\n",
    "The next 2 code block the processes in them taks a really long time to run.\n",
    "\n",
    "So I have put them in quots, If you want to run them just remove the three quots."
   ]
  },
  {
   "cell_type": "code",
   "execution_count": 39,
   "metadata": {},
   "outputs": [
    {
     "data": {
      "text/plain": [
       "\"scores = []\\nnum_clusters = range(10, 31, 2)\\n\\nfor clusters in num_clusters:\\n    # run k-means clustering on the data and...\\n    kmeans = KMeans(n_clusters=clusters)\\n    model = kmeans.fit(reduced_feat)\\n    \\n    # compute the average within-cluster distances.\\n    score = abs(model.score(reduced_feat))\\n    print('The score for {} clusters = {}'.format(clusters, score))\\n    scores.append(score)\\n\\nscores\""
      ]
     },
     "execution_count": 39,
     "metadata": {},
     "output_type": "execute_result"
    }
   ],
   "source": [
    "# Over a number of different cluster counts...\n",
    "'''scores = []\n",
    "num_clusters = range(10, 31, 2)\n",
    "\n",
    "for clusters in num_clusters:\n",
    "    # run k-means clustering on the data and...\n",
    "    kmeans = KMeans(n_clusters=clusters)\n",
    "    model = kmeans.fit(reduced_feat)\n",
    "    \n",
    "    # compute the average within-cluster distances.\n",
    "    score = abs(model.score(reduced_feat))\n",
    "    print('The score for {} clusters = {}'.format(clusters, score))\n",
    "    scores.append(score)\n",
    "\n",
    "scores'''"
   ]
  },
  {
   "cell_type": "code",
   "execution_count": 40,
   "metadata": {},
   "outputs": [
    {
     "data": {
      "text/plain": [
       "\"plt.plot(num_clusters, scores, marker='o')\\nplt.xlabel('num_clusters')\\nplt.ylabel('scores')\\nplt.show()\""
      ]
     },
     "execution_count": 40,
     "metadata": {},
     "output_type": "execute_result"
    }
   ],
   "source": [
    "# Investigate the change in within-cluster distance across number of clusters.\n",
    "# HINT: Use matplotlib's plot function to visualize this relationship.\n",
    "'''plt.plot(num_clusters, scores, marker='o')\n",
    "plt.xlabel('num_clusters')\n",
    "plt.ylabel('scores')\n",
    "plt.show()'''"
   ]
  },
  {
   "cell_type": "code",
   "execution_count": 41,
   "metadata": {},
   "outputs": [],
   "source": [
    "# Re-fit the k-means model with the selected number of clusters and obtain\n",
    "# cluster predictions for the general population demographics data.\n",
    "kmeans = KMeans(n_clusters = 26)\n",
    "model = kmeans.fit(reduced_feat)\n",
    "predict = model.predict(reduced_feat)"
   ]
  },
  {
   "cell_type": "markdown",
   "metadata": {},
   "source": [
    "### Discussion 3.1: Apply Clustering to General Population\n",
    "\n",
    "After trying different values for the number of clustuers and ploting the results and by using the elbow method (wasn't clear), I choose 26 to be the number of clusters."
   ]
  },
  {
   "cell_type": "markdown",
   "metadata": {},
   "source": [
    "### Step 3.2: Apply All Steps to the Customer Data\n",
    "\n",
    "Now that you have clusters and cluster centers for the general population, it's time to see how the customer data maps on to those clusters. Take care to not confuse this for re-fitting all of the models to the customer data. Instead, you're going to use the fits from the general population to clean, transform, and cluster the customer data. In the last step of the project, you will interpret how the general population fits apply to the customer data.\n",
    "\n",
    "- Don't forget when loading in the customers data, that it is semicolon (`;`) delimited.\n",
    "- Apply the same feature wrangling, selection, and engineering steps to the customer demographics using the `clean_data()` function you created earlier. (You can assume that the customer demographics data has similar meaning behind missing data patterns as the general demographics data.)\n",
    "- Use the sklearn objects from the general demographics data, and apply their transformations to the customers data. That is, you should not be using a `.fit()` or `.fit_transform()` method to re-fit the old objects, nor should you be creating new sklearn objects! Carry the data through the feature scaling, PCA, and clustering steps, obtaining cluster assignments for all of the data in the customer demographics data."
   ]
  },
  {
   "cell_type": "code",
   "execution_count": 42,
   "metadata": {},
   "outputs": [],
   "source": [
    "# Load in the customer demographics data.\n",
    "customers = pd.read_csv('Udacity_CUSTOMERS_Subset.csv',delimiter=';')"
   ]
  },
  {
   "cell_type": "code",
   "execution_count": 43,
   "metadata": {},
   "outputs": [
    {
     "data": {
      "text/plain": [
       "(2252274, (191652, 85))"
      ]
     },
     "execution_count": 43,
     "metadata": {},
     "output_type": "execute_result"
    }
   ],
   "source": [
    "customers.isna().sum().sum(), customers.shape"
   ]
  },
  {
   "cell_type": "code",
   "execution_count": 44,
   "metadata": {},
   "outputs": [],
   "source": [
    "# Apply preprocessing, feature transformation, and clustering from the general\n",
    "# demographics onto the customer data, obtaining cluster predictions for the\n",
    "# customer demographics data.\n",
    "customers = clean_data(customers)\n",
    "customers = customers.dropna()"
   ]
  },
  {
   "cell_type": "code",
   "execution_count": 45,
   "metadata": {},
   "outputs": [
    {
     "data": {
      "text/plain": [
       "(0, (115643, 192), (623211, 193))"
      ]
     },
     "execution_count": 45,
     "metadata": {},
     "output_type": "execute_result"
    }
   ],
   "source": [
    "customers.isna().sum().sum(), customers.shape, feat_scaled.shape"
   ]
  },
  {
   "cell_type": "code",
   "execution_count": 46,
   "metadata": {},
   "outputs": [
    {
     "data": {
      "text/plain": [
       "{'GEBAEUDETYP_5.0'}"
      ]
     },
     "execution_count": 46,
     "metadata": {},
     "output_type": "execute_result"
    }
   ],
   "source": [
    "set(feat_scaled.columns.tolist())-set(customers.columns.tolist())"
   ]
  },
  {
   "cell_type": "code",
   "execution_count": 47,
   "metadata": {},
   "outputs": [
    {
     "data": {
      "text/plain": [
       "(115643, 193)"
      ]
     },
     "execution_count": 47,
     "metadata": {},
     "output_type": "execute_result"
    }
   ],
   "source": [
    "customers['GEBAEUDETYP_5.0'] = 0\n",
    "customers.shape"
   ]
  },
  {
   "cell_type": "code",
   "execution_count": 48,
   "metadata": {},
   "outputs": [],
   "source": [
    "scaled_customers = scaler.transform(customers)\n",
    "pca_customers = pca.transform(scaled_customers)\n",
    "prediction_customers = model.predict(pca_customers)"
   ]
  },
  {
   "cell_type": "markdown",
   "metadata": {},
   "source": [
    "### Step 3.3: Compare Customer Data to Demographics Data\n",
    "\n",
    "At this point, you have clustered data based on demographics of the general population of Germany, and seen how the customer data for a mail-order sales company maps onto those demographic clusters. In this final substep, you will compare the two cluster distributions to see where the strongest customer base for the company is.\n",
    "\n",
    "Consider the proportion of persons in each cluster for the general population, and the proportions for the customers. If we think the company's customer base to be universal, then the cluster assignment proportions should be fairly similar between the two. If there are only particular segments of the population that are interested in the company's products, then we should see a mismatch from one to the other. If there is a higher proportion of persons in a cluster for the customer data compared to the general population (e.g. 5% of persons are assigned to a cluster for the general population, but 15% of the customer data is closest to that cluster's centroid) then that suggests the people in that cluster to be a target audience for the company. On the other hand, the proportion of the data in a cluster being larger in the general population than the customer data (e.g. only 2% of customers closest to a population centroid that captures 6% of the data) suggests that group of persons to be outside of the target demographics.\n",
    "\n",
    "Take a look at the following points in this step:\n",
    "\n",
    "- Compute the proportion of data points in each cluster for the general population and the customer data. Visualizations will be useful here: both for the individual dataset proportions, but also to visualize the ratios in cluster representation between groups. Seaborn's [`countplot()`](https://seaborn.pydata.org/generated/seaborn.countplot.html) or [`barplot()`](https://seaborn.pydata.org/generated/seaborn.barplot.html) function could be handy.\n",
    "  - Recall the analysis you performed in step 1.1.3 of the project, where you separated out certain data points from the dataset if they had more than a specified threshold of missing values. If you found that this group was qualitatively different from the main bulk of the data, you should treat this as an additional data cluster in this analysis. Make sure that you account for the number of data points in this subset, for both the general population and customer datasets, when making your computations!\n",
    "- Which cluster or clusters are overrepresented in the customer dataset compared to the general population? Select at least one such cluster and infer what kind of people might be represented by that cluster. Use the principal component interpretations from step 2.3 or look at additional components to help you make this inference. Alternatively, you can use the `.inverse_transform()` method of the PCA and StandardScaler objects to transform centroids back to the original data space and interpret the retrieved values directly.\n",
    "- Perform a similar investigation for the underrepresented clusters. Which cluster or clusters are underrepresented in the customer dataset compared to the general population, and what kinds of people are typified by these clusters?"
   ]
  },
  {
   "cell_type": "code",
   "execution_count": 49,
   "metadata": {},
   "outputs": [
    {
     "data": {
      "text/plain": [
       "Text(0.5,1,'Customer Population')"
      ]
     },
     "execution_count": 49,
     "metadata": {},
     "output_type": "execute_result"
    },
    {
     "data": {
      "image/png": "[encoded data removed]",
      "text/plain": [
       "<matplotlib.figure.Figure at 0x7fe70ad25748>"
      ]
     },
     "metadata": {
      "needs_background": "light"
     },
     "output_type": "display_data"
    }
   ],
   "source": [
    "# Compare the proportion of data in each cluster for the customer data to the\n",
    "# proportion of data in each cluster for the general population.\n",
    "fig, (ax1, ax2) = plt.subplots(1, 2, figsize=(16,6))\n",
    "\n",
    "sns.countplot(predict, ax = ax1)\n",
    "ax1.set_title('General Population')\n",
    "\n",
    "sns.countplot(prediction_customers, ax = ax2)\n",
    "ax2.set_title('Customer Population')"
   ]
  },
  {
   "cell_type": "code",
   "execution_count": 50,
   "metadata": {},
   "outputs": [
    {
     "data": {
      "text/plain": [
       "(                          values\n",
       " MIN_GEBAEUDEJAHR     1992.834967\n",
       " KBA13_ANZAHL_PKW      617.006716\n",
       " ANZ_HAUSHALTE_AKTIV    74.831538\n",
       " WOHNDAUER_2008          7.214406\n",
       " ORTSGR_KLS9             6.370787,                         values\n",
       " CAMEO_DEU_2015_4B    -0.053236\n",
       " ZABEOTYP_5           -0.063645\n",
       " GFK_URLAUBERTYP_12.0 -0.076262\n",
       " LP_STATUS_FEIN_7.0   -0.076982\n",
       " ZABEOTYP_6           -0.091045)"
      ]
     },
     "execution_count": 50,
     "metadata": {},
     "output_type": "execute_result"
    }
   ],
   "source": [
    "# What kinds of people are part of a cluster that is overrepresented in the\n",
    "# customer data compared to the general population?\n",
    "overrepresented = 16\n",
    "\n",
    "centriod_16 = scaler.inverse_transform(pca.inverse_transform(model.cluster_centers_[overrepresented]))\n",
    "\n",
    "over_pop = pd.DataFrame(centriod_16, index=customers.columns, columns=['values'])\n",
    "over_pop.sort_values(ascending=False, by='values', inplace=True)\n",
    "over_pop.head(), over_pop.tail()"
   ]
  },
  {
   "cell_type": "code",
   "execution_count": 51,
   "metadata": {},
   "outputs": [
    {
     "data": {
      "text/plain": [
       "(                          values\n",
       " MIN_GEBAEUDEJAHR     1992.314020\n",
       " KBA13_ANZAHL_PKW      530.944116\n",
       " ANZ_HAUSHALTE_AKTIV    13.747353\n",
       " WOHNDAUER_2008          7.131081\n",
       " ORTSGR_KLS9             6.862010,                                   values\n",
       " PRAEGENDE_JUGENDJAHRE_MOVEMENT -0.000988\n",
       " CAMEO_DEU_2015_1B              -0.001739\n",
       " LP_STATUS_FEIN_8.0             -0.001839\n",
       " LP_STATUS_FEIN_5.0             -0.007726\n",
       " ANREDE_KZ                      -0.027565)"
      ]
     },
     "execution_count": 51,
     "metadata": {},
     "output_type": "execute_result"
    }
   ],
   "source": [
    "# What kinds of people are part of a cluster that is underrepresented in the\n",
    "# customer data compared to the general population?\n",
    "underrepresented = 14\n",
    "\n",
    "centriod_14 = scaler.inverse_transform(pca.inverse_transform(model.cluster_centers_[underrepresented]))\n",
    "\n",
    "under_pop = pd.DataFrame(centriod_14, index=customers.columns, columns=['values'])\n",
    "under_pop.sort_values(ascending=False, by='values', inplace=True)\n",
    "under_pop.head(), under_pop.tail()"
   ]
  },
  {
   "cell_type": "markdown",
   "metadata": {},
   "source": [
    "### Discussion 3.3: Compare Customer Data to Demographics Data\n",
    "\n"
   ]
  },
  {
   "cell_type": "markdown",
   "metadata": {},
   "source": [
    "looking at the two graphs we can see that the cluster 16 is overpresented and the cluster 14 is underpresented.\n",
    "I think I have done something wrong because they both almost have the same value so I can't figure out which features are correlated to the costomers."
   ]
  },
  {
   "cell_type": "markdown",
   "metadata": {},
   "source": [
    "> Congratulations on making it this far in the project! Before you finish, make sure to check through the entire notebook from top to bottom to make sure that your analysis follows a logical flow and all of your findings are documented in **Discussion** cells. Once you've checked over all of your work, you should export the notebook as an HTML document to submit for evaluation. You can do this from the menu, navigating to **File -> Download as -> HTML (.html)**. You will submit both that document and this notebook for your project submission."
   ]
  }
 ],
 "metadata": {
  "kernelspec": {
   "display_name": "Python 3",
   "language": "python",
   "name": "python3"
  },
  "language_info": {
   "codemirror_mode": {
    "name": "ipython",
    "version": 3
   },
   "file_extension": ".py",
   "mimetype": "text/x-python",
   "name": "python",
   "nbconvert_exporter": "python",
   "pygments_lexer": "ipython3",
   "version": "3.6.3"
  }
 },
 "nbformat": 4,
 "nbformat_minor": 2
}
